{
 "cells": [
  {
   "cell_type": "code",
   "execution_count": 1,
   "metadata": {},
   "outputs": [],
   "source": [
    "%load_ext autoreload\n",
    "%autoreload 2"
   ]
  },
  {
   "cell_type": "code",
   "execution_count": 2,
   "metadata": {
    "id": "6uHoVF74CVci"
   },
   "outputs": [],
   "source": [
    "import json\n",
    "\n",
    "import seaborn as sns\n",
    "import pandas as pd\n",
    "import matplotlib.pyplot as plt\n",
    "\n",
    "from sklearn.manifold import TSNE\n",
    "from sklearn.model_selection import GridSearchCV\n",
    "from model.forest import train_forest\n",
    "\n",
    "from model.gradient_boosting import train_gradient_boosting\n",
    "from utils import show_cluster, plot_clustermap, plot_legend, get_importances"
   ]
  },
  {
   "cell_type": "code",
   "execution_count": null,
   "metadata": {},
   "outputs": [
    {
     "name": "stdout",
     "output_type": "stream",
     "text": [
      "==================== ETV6RUNX1 ====================\n",
      "Intersection size median: 3\n",
      "Intersection size hits: 5\n",
      "Intersection (hits): {'ENSG00000285718', 'AC091133.4', 'DSC3', 'KCNN1', 'AK7'}\n",
      "Top hits male: KCNN1 (88.0484 ± 85.9929), DSC3 (32.3906 ± 30.0936), IGF2BP1 (51.6504 ± 47.2826), AC091133.4 (6.8506 ± 5.2496), AK7 (17.5554 ± 18.1356), MYOCD (8.4858 ± 10.0217), ENSG00000286393 (110.4646 ± 117.3685), AP005530.1 (27.3642 ± 19.1377), ARHGAP42P3 (6.1024 ± 9.9626), ENSG00000285718 (21.8281 ± 31.1034)\n",
      "Top hits female: DSC3 (32.3906 ± 30.0936), KCNN1 (88.0484 ± 85.9929), ARHGAP42P4 (17.9253 ± 26.1852), AC091133.4 (6.8506 ± 5.2496), ENSG00000285718 (21.8281 ± 31.1034), AC215217.1 (46.9531 ± 34.6266), BIRC7 (48.4507 ± 72.3358), RN7SL399P (10.4446 ± 11.1398), NOVA1 (9.4550 ± 9.1818), AK7 (17.5554 ± 18.1356)\n",
      "Top median male: DSC3 (32.3906 ± 30.0936), ACVR1C (6.0061 ± 6.3475), CLIC5 (55.2540 ± 62.4287), HAP1 (82.2007 ± 93.8839), ENSG00000285718 (21.8281 ± 31.1034), LINC01416 (11.8168 ± 22.7435), NOVA1 (9.4550 ± 9.1818), KCNN1 (88.0484 ± 85.9929), EPN2 (17.8009 ± 14.2808), GBA3 (12.1702 ± 11.9702)\n",
      "Top median female: ENSG00000285718 (21.8281 ± 31.1034), CCDC136 (20.9459 ± 25.1705), AC011472.2 (6.4114 ± 6.7509), DSC3 (32.3906 ± 30.0936), NOVA1 (9.4550 ± 9.1818), AK7 (17.5554 ± 18.1356), ARHGAP42P3 (6.1024 ± 9.9626), SIK1B (5.0581 ± 6.7615), AC215217.1 (46.9531 ± 34.6266), ARHGAP42P4 (17.9253 ± 26.1852)\n",
      "\n"
     ]
    }
   ],
   "source": [
    "def genes_data(genes) -> str:\n",
    "    return \", \".join([f\"{x[0]} ({average_by_gene_by_subtype[x[0]][subtype][\"mean\"]:.4f} ± {average_by_gene_by_subtype[x[0]][subtype][\"stddev\"]:.4f})\" for x in genes])\n",
    "\n",
    "subtypes = [\"BCRABL1\", \"DUX4IGH\", \"HYPER\", \"HYPO\", \"iAMP21\", \"KMT2A\", \"PAX5\", \"PHlike\", \"TCF3PBX1\", \"ETV6RUNX1\"]\n",
    "average_by_gene_by_subtype = json.loads(open(f\"../data/data_by_gene_by_subtype.json\", \"r\").readline())\n",
    "\n",
    "genes_by_subtype = {}\n",
    "for subtype in subtypes:\n",
    "    male: dict = json.loads(open(f\"../results/gene_results_male_{subtype}.csv\", \"r\").readline())\n",
    "    female: dict = json.loads(open(f\"../results/gene_results_female_{subtype}.csv\", \"r\").readline())\n",
    "\n",
    "    top_median_male = sorted(male.items(), key=lambda x: x[1][\"median\"], reverse=True)[:10]\n",
    "    top_median_female = sorted(female.items(), key=lambda x: x[1][\"median\"], reverse=True)[:10]\n",
    "\n",
    "    top_hits_male = sorted(male.items(), key=lambda x: x[1][\"hits\"], reverse=True)[:10]\n",
    "    top_hits_female = sorted(female.items(), key=lambda x: x[1][\"hits\"], reverse=True)[:10]\n",
    "\n",
    "    print(f\"==================== {subtype} ====================\")\n",
    "    print(f\"Intersection size median: {len(set([x[0] for x in top_median_male]) & set([x[0] for x in top_median_female]))}\")\n",
    "    print(f\"Intersection size hits: {len(set([x[0] for x in top_hits_male]) & set([x[0] for x in top_hits_female]))}\")\n",
    "    print(f\"Intersection (hits): {set([x[0] for x in top_hits_male]) & set([x[0] for x in top_hits_female])}\")\n",
    "    print(f\"Top hits male: {genes_data(top_hits_male)}\")\n",
    "    print(f\"Top hits female: {genes_data(top_hits_female)}\")\n",
    "    print(f\"Top median male: {genes_data(top_median_male)}\")\n",
    "    print(f\"Top median female: {genes_data(top_median_female)}\")\n",
    "    print()\n",
    "\n",
    "    genes_by_subtype[subtype] = set([x[0] for x in top_hits_male]) | set([x[0] for x in top_hits_female])\n",
    "    \n"
   ]
  },
  {
   "cell_type": "code",
   "execution_count": 38,
   "metadata": {},
   "outputs": [],
   "source": [
    "data = pd.read_csv(\"../data/genes_extra_data.csv\", delimiter=\",\", decimal='.')\n",
    "for subtype in subtypes:\n",
    "  aggregated_data = data.copy()\n",
    "  aggregated_data = aggregated_data[aggregated_data[\"subtype\"] == subtype]\n",
    "  aggregated_data = aggregated_data[[\"sex\", \"subtype\", *genes_by_subtype[subtype]]]\n",
    "  aggregated_data = aggregated_data.groupby([\"subtype\", \"sex\"]).agg([\"mean\", \"std\"])\n",
    "  aggregated_data.to_csv(f\"aggregated_data_{subtype}.csv\")"
   ]
  }
 ],
 "metadata": {
  "colab": {
   "provenance": []
  },
  "kernelspec": {
   "display_name": ".venv",
   "language": "python",
   "name": "python3"
  },
  "language_info": {
   "codemirror_mode": {
    "name": "ipython",
    "version": 3
   },
   "file_extension": ".py",
   "mimetype": "text/x-python",
   "name": "python",
   "nbconvert_exporter": "python",
   "pygments_lexer": "ipython3",
   "version": "3.12.4"
  }
 },
 "nbformat": 4,
 "nbformat_minor": 0
}
