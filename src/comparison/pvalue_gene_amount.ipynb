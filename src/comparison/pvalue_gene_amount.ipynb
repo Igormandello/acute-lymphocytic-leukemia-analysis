{
 "cells": [
  {
   "cell_type": "code",
   "execution_count": 1,
   "metadata": {},
   "outputs": [],
   "source": [
    "%load_ext autoreload\n",
    "%autoreload 2"
   ]
  },
  {
   "cell_type": "code",
   "execution_count": 2,
   "metadata": {},
   "outputs": [],
   "source": [
    "import sys\n",
    "import os\n",
    "sys.path.append(os.path.join(os.getcwd(), '../'))"
   ]
  },
  {
   "cell_type": "code",
   "execution_count": 65,
   "metadata": {
    "id": "6uHoVF74CVci"
   },
   "outputs": [],
   "source": [
    "import matplotlib.pyplot as plt\n",
    "import numpy as np\n",
    "import pandas as pd\n",
    "import warnings\n",
    "\n",
    "import json\n",
    "from numpy import random\n",
    "from dataclasses import dataclass\n",
    "\n",
    "from model.utils import report_results, MetricsResults\n",
    "\n",
    "from sklearn.ensemble import HistGradientBoostingClassifier\n",
    "\n",
    "DEFAULT_RANDOM_SEED = 774\n",
    "random.mtrand._rand.seed(DEFAULT_RANDOM_SEED)\n",
    "seed_list = random.random_integers(low=0, high=2**32 - 1, size=25)\n",
    "warnings.filterwarnings(\"ignore\")"
   ]
  },
  {
   "cell_type": "code",
   "execution_count": 66,
   "metadata": {},
   "outputs": [],
   "source": [
    "@dataclass\n",
    "class RunConfiguration:\n",
    "  run_grid_search: bool\n",
    "  default_parameters: dict"
   ]
  },
  {
   "cell_type": "code",
   "execution_count": 67,
   "metadata": {},
   "outputs": [],
   "source": [
    "def run_tests(category: str, pvalues: str, select_genes, parameters: dict) -> tuple[int, MetricsResults]:\n",
    "  data = pd.read_csv(f\"../../preprocessed/{category}/genes.csv\").drop(columns=[\"sample_id\"])\n",
    "  pvalues = json.loads(open(f\"../../preprocessed/{category}/important_genes_{pvalues}_pvalue.json\").readline())\n",
    "\n",
    "  chosen_genes = select_genes(pvalues)\n",
    "  df = data[[\"subtype\", \"sex\", *chosen_genes]]\n",
    "  results = report_results(df, HistGradientBoostingClassifier, parameters, seed_list)\n",
    "\n",
    "  return len(chosen_genes), results"
   ]
  },
  {
   "cell_type": "code",
   "execution_count": 68,
   "metadata": {},
   "outputs": [
    {
     "name": "stderr",
     "output_type": "stream",
     "text": [
      "100%|██████████| 25/25 [01:23<00:00,  3.33s/it]\n",
      "100%|██████████| 25/25 [01:14<00:00,  2.97s/it]\n",
      "100%|██████████| 25/25 [01:15<00:00,  3.00s/it]\n",
      "100%|██████████| 25/25 [01:17<00:00,  3.10s/it]\n",
      "100%|██████████| 25/25 [01:15<00:00,  3.01s/it]\n",
      "100%|██████████| 25/25 [01:16<00:00,  3.07s/it]\n",
      "100%|██████████| 25/25 [01:14<00:00,  2.98s/it]\n",
      "100%|██████████| 25/25 [01:22<00:00,  3.29s/it]\n",
      "100%|██████████| 25/25 [01:25<00:00,  3.43s/it]\n",
      "100%|██████████| 25/25 [01:29<00:00,  3.58s/it]\n",
      "100%|██████████| 25/25 [01:29<00:00,  3.58s/it]\n",
      "100%|██████████| 25/25 [01:31<00:00,  3.64s/it]\n",
      "100%|██████████| 25/25 [02:13<00:00,  5.32s/it]\n",
      "100%|██████████| 25/25 [02:14<00:00,  5.38s/it]\n",
      "100%|██████████| 25/25 [02:17<00:00,  5.49s/it]\n",
      "100%|██████████| 25/25 [02:16<00:00,  5.48s/it]\n",
      "100%|██████████| 25/25 [02:30<00:00,  6.00s/it]\n",
      "100%|██████████| 25/25 [02:24<00:00,  5.78s/it]\n",
      "100%|██████████| 25/25 [02:37<00:00,  6.32s/it]\n"
     ]
    }
   ],
   "source": [
    "X = []\n",
    "f1 = []\n",
    "accuracy = []\n",
    "recall = []\n",
    "\n",
    "for i in [*range(1, 10), *range(10, 25, 3), *range(25, 50, 5)]:\n",
    "  gene_count, results = run_tests(\n",
    "    category=\"min_tpm_5\",\n",
    "    pvalues=\"wilcoxon\",\n",
    "    select_genes=lambda pvalues: list(set([y[\"gene\"] for x in [sex_values[:i] for subtype_items in pvalues.values() for sex_values in subtype_items.values()] for y in x])),\n",
    "    parameters={'learning_rate': 0.1, 'max_features': 0.1, 'l2_regularization': 0, 'max_depth': None}\n",
    "  )\n",
    "\n",
    "  X.append(gene_count)\n",
    "  f1.append(np.median(results.f1.overall))\n",
    "  accuracy.append(np.median(results.accuracy.overall))\n",
    "  recall.append(np.median(results.recall.overall))"
   ]
  },
  {
   "cell_type": "code",
   "execution_count": 71,
   "metadata": {},
   "outputs": [
    {
     "data": {
      "text/plain": [
       "<matplotlib.legend.Legend at 0x3260f4d70>"
      ]
     },
     "execution_count": 71,
     "metadata": {},
     "output_type": "execute_result"
    },
    {
     "data": {
      "image/png": "[encoded data removed]",
      "text/plain": [
       "<Figure size 640x480 with 1 Axes>"
      ]
     },
     "metadata": {},
     "output_type": "display_data"
    }
   ],
   "source": [
    "ax = plt.subplot()\n",
    "p1, = ax.plot(X, f1, label=\"F1 Macro\")\n",
    "p2, = ax.plot(X, accuracy, label=\"Accuracy\")\n",
    "p3, = ax.plot(X, recall, label=\"Recall\")\n",
    "\n",
    "ax.set_xlabel(\"Gene Count\")\n",
    "ax.set_ylim([0.5, 1])\n",
    "ax.legend()"
   ]
  }
 ],
 "metadata": {
  "colab": {
   "provenance": []
  },
  "kernelspec": {
   "display_name": ".venv",
   "language": "python",
   "name": "python3"
  },
  "language_info": {
   "codemirror_mode": {
    "name": "ipython",
    "version": 3
   },
   "file_extension": ".py",
   "mimetype": "text/x-python",
   "name": "python",
   "nbconvert_exporter": "python",
   "pygments_lexer": "ipython3",
   "version": "3.12.9"
  }
 },
 "nbformat": 4,
 "nbformat_minor": 0
}
