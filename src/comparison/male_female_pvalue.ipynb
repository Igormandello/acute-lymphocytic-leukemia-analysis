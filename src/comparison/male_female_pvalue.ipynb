{
 "cells": [
  {
   "cell_type": "code",
   "execution_count": 24,
   "metadata": {},
   "outputs": [
    {
     "name": "stdout",
     "output_type": "stream",
     "text": [
      "The autoreload extension is already loaded. To reload it, use:\n",
      "  %reload_ext autoreload\n"
     ]
    }
   ],
   "source": [
    "%load_ext autoreload\n",
    "%autoreload 2"
   ]
  },
  {
   "cell_type": "code",
   "execution_count": 25,
   "metadata": {},
   "outputs": [],
   "source": [
    "import sys\n",
    "import os\n",
    "sys.path.append(os.path.join(os.getcwd(), '../'))"
   ]
  },
  {
   "cell_type": "code",
   "execution_count": 26,
   "metadata": {
    "id": "6uHoVF74CVci"
   },
   "outputs": [],
   "source": [
    "import pandas as pd\n",
    "import warnings\n",
    "\n",
    "import json\n",
    "from numpy import random\n",
    "from dataclasses import dataclass\n",
    "\n",
    "from model.utils import report_results\n",
    "from model.gradient_boosting import train_gradient_boosting\n",
    "\n",
    "DEFAULT_RANDOM_SEED = 774\n",
    "random.mtrand._rand.seed(DEFAULT_RANDOM_SEED)\n",
    "seed_list = random.random_integers(low=0, high=2**32 - 1, size=100)\n",
    "warnings.filterwarnings(\"ignore\")\n",
    "\n",
    "search_params = {\"learning_rate\": (0.05, 0.1, 0.5, 1), \"max_features\": (0.05, 0.1, 0.15, 0.2, 0.5,), \"min_samples_leaf\": (5, 10, 15, 20), \"l2_regularization\": (0, 0.5, 1), \"max_depth\": (16, 32, 64, 128, 256)}"
   ]
  },
  {
   "cell_type": "code",
   "execution_count": 27,
   "metadata": {},
   "outputs": [],
   "source": [
    "@dataclass\n",
    "class RunConfiguration:\n",
    "  run_grid_search: bool\n",
    "  default_parameters: dict"
   ]
  },
  {
   "cell_type": "code",
   "execution_count": 28,
   "metadata": {},
   "outputs": [],
   "source": [
    "def get_parameters(df: pd.DataFrame, run_config: RunConfiguration):\n",
    "  if not run_config.run_grid_search:\n",
    "    return run_config.default_parameters\n",
    "  \n",
    "  grid_search_response = train_gradient_boosting(target=\"subtype\", data=df, grid_search_params=search_params)\n",
    "  parameters = {k: grid_search_response.model.get_params()[k] for k in grid_search_response.model.get_params().keys() & search_params.keys() }\n",
    "  print(parameters)\n",
    "  return parameters\n",
    "\n",
    "def run_tests(category: str, not_biased_config: RunConfiguration, biased_config: RunConfiguration):\n",
    "  data = pd.read_csv(f\"../../preprocessed/{category}/genes.csv\").drop(columns=[\"sample_id\"])\n",
    "  pvalues = json.loads(open(f\"../../preprocessed/{category}/important_genes_pvalue.json\").readline())\n",
    "\n",
    "  chosen_genes_all = list(set([y[\"gene\"] for x in [sex_values[:25] for subtype_items in pvalues.values() for sex_values in subtype_items.values()] for y in x]))\n",
    "  chosen_genes_male = list(set([y[\"gene\"] for x in [subtype_items[\"Male\"][:50] for subtype_items in pvalues.values()] for y in x]))\n",
    "  print(f\"Total chosen genes: {len(chosen_genes_all)}\")\n",
    "  print(f\"Total chosen genes (biased): {len(chosen_genes_male)}\")\n",
    "\n",
    "  print(\"Reporting not biased results\")\n",
    "  df = data[[\"subtype\", \"sex\", *chosen_genes_all]]\n",
    "  report_results(df, get_parameters(df, not_biased_config), seed_list, is_biased=False)\n",
    "\n",
    "  print(\"Reporting biased results\")\n",
    "  df = data[[\"subtype\", \"sex\", *chosen_genes_male]]\n",
    "  report_results(df, get_parameters(df[df[\"sex\"] == \"Male\"], biased_config), seed_list, is_biased=True)"
   ]
  },
  {
   "cell_type": "code",
   "execution_count": null,
   "metadata": {},
   "outputs": [
    {
     "name": "stdout",
     "output_type": "stream",
     "text": [
      "Total chosen genes: 402\n",
      "Total chosen genes (biased): 455\n",
      "Reporting not biased results\n"
     ]
    },
    {
     "name": "stderr",
     "output_type": "stream",
     "text": [
      "100%|██████████| 100/100 [09:07<00:00,  5.48s/it]"
     ]
    },
    {
     "name": "stdout",
     "output_type": "stream",
     "text": [
      "F1: 0.8735 ± 0.0256\n",
      "Male F1: 0.8517 ± 0.0372\n",
      "Female F1: 0.8952 ± 0.0369\n",
      "Reporting biased results\n"
     ]
    },
    {
     "name": "stderr",
     "output_type": "stream",
     "text": [
      "\n"
     ]
    },
    {
     "name": "stdout",
     "output_type": "stream",
     "text": [
      "Best params: {'categorical_features': 'from_dtype', 'class_weight': None, 'early_stopping': 'auto', 'interaction_cst': None, 'l2_regularization': 0, 'learning_rate': 0.1, 'loss': 'log_loss', 'max_bins': 255, 'max_depth': 64, 'max_features': 0.05, 'max_iter': 100, 'max_leaf_nodes': 31, 'min_samples_leaf': 5, 'monotonic_cst': None, 'n_iter_no_change': 10, 'random_state': None, 'scoring': 'loss', 'tol': 1e-07, 'validation_fraction': 0.1, 'verbose': 0, 'warm_start': False}\n",
      "{'max_depth': 64, 'learning_rate': 0.1, 'l2_regularization': 0, 'min_samples_leaf': 5, 'max_features': 0.05}\n"
     ]
    },
    {
     "name": "stderr",
     "output_type": "stream",
     "text": [
      "100%|██████████| 100/100 [3:59:06<00:00, 143.47s/it]  \n"
     ]
    },
    {
     "name": "stdout",
     "output_type": "stream",
     "text": [
      "F1: 0.8256 ± 0.0149\n",
      "Male F1: 0.8505 ± 0.0405\n",
      "Female F1: 0.8204 ± 0.0144\n"
     ]
    }
   ],
   "source": [
    "run_tests(\n",
    "  category=\"min_tpm_0\",\n",
    "  not_biased_config=RunConfiguration(\n",
    "    run_grid_search=False,\n",
    "    default_parameters = { \"max_depth\": 64, \"learning_rate\": 0.1, \"l2_regularization\": 0, \"min_samples_leaf\": 20, \"max_features\": 0.1 }\n",
    "  ),\n",
    "  biased_config=RunConfiguration(\n",
    "    run_grid_search=True,\n",
    "    default_parameters = { \"max_depth\": 32, \"learning_rate\": 0.1, \"l2_regularization\": 0, \"min_samples_leaf\": 15, \"max_features\": 0.05 }\n",
    "  )\n",
    ")\n",
    "\n",
    "# Total chosen genes: 402\n",
    "# Total chosen genes (biased): 455\n",
    "# Reporting not biased results\n",
    "# 100%|██████████| 100/100 [09:07<00:00,  5.48s/it]\n",
    "# F1: 0.8735 ± 0.0256\n",
    "# Male F1: 0.8517 ± 0.0372\n",
    "# Female F1: 0.8952 ± 0.0369\n",
    "# Reporting biased results\n",
    "\n",
    "# Best params: {'categorical_features': 'from_dtype', 'class_weight': None, 'early_stopping': 'auto', 'interaction_cst': None, 'l2_regularization': 0, 'learning_rate': 0.1, 'loss': 'log_loss', 'max_bins': 255, 'max_depth': 64, 'max_features': 0.05, 'max_iter': 100, 'max_leaf_nodes': 31, 'min_samples_leaf': 5, 'monotonic_cst': None, 'n_iter_no_change': 10, 'random_state': None, 'scoring': 'loss', 'tol': 1e-07, 'validation_fraction': 0.1, 'verbose': 0, 'warm_start': False}\n",
    "# {'max_depth': 64, 'learning_rate': 0.1, 'l2_regularization': 0, 'min_samples_leaf': 5, 'max_features': 0.05}\n",
    "# 100%|██████████| 100/100 [3:59:06<00:00, 143.47s/it]  \n",
    "# F1: 0.8256 ± 0.0149\n",
    "# Male F1: 0.8505 ± 0.0405\n",
    "# Female F1: 0.8204 ± 0.0144"
   ]
  },
  {
   "cell_type": "code",
   "execution_count": null,
   "metadata": {},
   "outputs": [
    {
     "name": "stdout",
     "output_type": "stream",
     "text": [
      "Total chosen genes: 394\n",
      "Total chosen genes (biased): 499\n",
      "Reporting not biased results\n",
      "{'max_depth': 32, 'learning_rate': 0.1, 'l2_regularization': 0, 'min_samples_leaf': 15, 'max_features': 0.2}\n"
     ]
    },
    {
     "name": "stderr",
     "output_type": "stream",
     "text": [
      "100%|██████████| 100/100 [1:30:43<00:00, 54.44s/it]   "
     ]
    },
    {
     "name": "stdout",
     "output_type": "stream",
     "text": [
      "F1: 0.8918 ± 0.0241\n",
      "Male F1: 0.8816 ± 0.0328\n",
      "Female F1: 0.8969 ± 0.0327\n",
      "Reporting biased results\n"
     ]
    },
    {
     "name": "stderr",
     "output_type": "stream",
     "text": [
      "\n"
     ]
    },
    {
     "name": "stdout",
     "output_type": "stream",
     "text": [
      "{'max_depth': 32, 'learning_rate': 0.1, 'l2_regularization': 0.5, 'min_samples_leaf': 5, 'max_features': 0.15}\n"
     ]
    },
    {
     "name": "stderr",
     "output_type": "stream",
     "text": [
      "100%|██████████| 100/100 [03:51<00:00,  2.31s/it]"
     ]
    },
    {
     "name": "stdout",
     "output_type": "stream",
     "text": [
      "F1: 0.8466 ± 0.0137\n",
      "Male F1: 0.8662 ± 0.0363\n",
      "Female F1: 0.8404 ± 0.0133\n"
     ]
    },
    {
     "name": "stderr",
     "output_type": "stream",
     "text": [
      "\n"
     ]
    }
   ],
   "source": [
    "run_tests(\n",
    "  category=\"min_tpm_5\",\n",
    "  not_biased_config=RunConfiguration(\n",
    "    run_grid_search=True,\n",
    "    default_parameters = {\n",
    "      \"l2_regularization\": 0.5,\n",
    "      \"learning_rate\": 0.1,\n",
    "      \"max_depth\": 256,\n",
    "      \"max_features\": 0.2,\n",
    "      \"min_samples_leaf\": 10\n",
    "    }\n",
    "  ),\n",
    "  biased_config=RunConfiguration(\n",
    "    run_grid_search=True,\n",
    "    default_parameters = {\n",
    "      \"learning_rate\": 0.5,\n",
    "      \"l2_regularization\": 1.5,\n",
    "      \"max_features\": 0.3,\n",
    "      \"min_samples_leaf\": 3,\n",
    "      \"max_depth\": 8\n",
    "  }\n",
    "  )\n",
    ")\n",
    "\n",
    "# Total chosen genes: 394\n",
    "# Total chosen genes (biased): 499\n",
    "# Reporting not biased results\n",
    "# {'max_depth': 32, 'learning_rate': 0.1, 'l2_regularization': 0, 'min_samples_leaf': 15, 'max_features': 0.2}\n",
    "# 100%|██████████| 100/100 [1:30:43<00:00, 54.44s/it]   \n",
    "# F1: 0.8918 ± 0.0241\n",
    "# Male F1: 0.8816 ± 0.0328\n",
    "# Female F1: 0.8969 ± 0.0327\n",
    "# Reporting biased results\n",
    "\n",
    "# {'max_depth': 32, 'learning_rate': 0.1, 'l2_regularization': 0.5, 'min_samples_leaf': 5, 'max_features': 0.15}\n",
    "# 100%|██████████| 100/100 [03:51<00:00,  2.31s/it]\n",
    "# F1: 0.8466 ± 0.0137\n",
    "# Male F1: 0.8662 ± 0.0363\n",
    "# Female F1: 0.8404 ± 0.0133"
   ]
  }
 ],
 "metadata": {
  "colab": {
   "provenance": []
  },
  "kernelspec": {
   "display_name": ".venv",
   "language": "python",
   "name": "python3"
  },
  "language_info": {
   "codemirror_mode": {
    "name": "ipython",
    "version": 3
   },
   "file_extension": ".py",
   "mimetype": "text/x-python",
   "name": "python",
   "nbconvert_exporter": "python",
   "pygments_lexer": "ipython3",
   "version": "3.12.4"
  }
 },
 "nbformat": 4,
 "nbformat_minor": 0
}
