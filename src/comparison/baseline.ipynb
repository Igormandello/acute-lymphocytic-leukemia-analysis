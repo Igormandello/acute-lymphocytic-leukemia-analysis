{
 "cells": [
  {
   "cell_type": "code",
   "execution_count": 1,
   "metadata": {},
   "outputs": [],
   "source": [
    "%load_ext autoreload\n",
    "%autoreload 2"
   ]
  },
  {
   "cell_type": "code",
   "execution_count": 2,
   "metadata": {},
   "outputs": [],
   "source": [
    "import sys\n",
    "import os\n",
    "sys.path.append(os.path.join(os.getcwd(), '../'))"
   ]
  },
  {
   "cell_type": "code",
   "execution_count": 3,
   "metadata": {
    "id": "6uHoVF74CVci"
   },
   "outputs": [
    {
     "name": "stderr",
     "output_type": "stream",
     "text": [
      "/var/folders/vp/tqkr07mj3cn274npl2jmvy5w0000gq/T/ipykernel_97305/1976494594.py:15: DeprecationWarning: This function is deprecated. Please call randint(0, 4294967295 + 1) instead\n",
      "  seed_list = random.random_integers(low=0, high=2**32 - 1, size=100)\n"
     ]
    }
   ],
   "source": [
    "import pandas as pd\n",
    "import warnings\n",
    "\n",
    "import json\n",
    "from numpy import random\n",
    "from dataclasses import dataclass\n",
    "\n",
    "from model.utils import report_results\n",
    "from model.train import train_classifier\n",
    "\n",
    "from sklearn.ensemble import HistGradientBoostingClassifier, AdaBoostClassifier, ExtraTreesClassifier, RandomForestClassifier\n",
    "\n",
    "DEFAULT_RANDOM_SEED = 774\n",
    "random.mtrand._rand.seed(DEFAULT_RANDOM_SEED)\n",
    "seed_list = random.random_integers(low=0, high=2**32 - 1, size=100)\n",
    "warnings.filterwarnings(\"ignore\")"
   ]
  },
  {
   "cell_type": "code",
   "execution_count": 4,
   "metadata": {},
   "outputs": [],
   "source": [
    "@dataclass\n",
    "class RunConfiguration:\n",
    "  run_grid_search: bool\n",
    "  grid_search_params: dict\n",
    "  default_parameters: dict"
   ]
  },
  {
   "cell_type": "code",
   "execution_count": null,
   "metadata": {},
   "outputs": [],
   "source": [
    "def get_parameters(df: pd.DataFrame, model_factory, run_config: RunConfiguration):\n",
    "  if not run_config.run_grid_search:\n",
    "    return run_config.default_parameters\n",
    "  \n",
    "  response = train_classifier(model_factory(), target=\"subtype\", data=df, grid_search_params=run_config.grid_search_params)\n",
    "  parameters = {k: response.model.get_params()[k] for k in response.model.get_params().keys() & run_config.grid_search_params.keys() }\n",
    "  print(parameters)\n",
    "  return parameters\n",
    "\n",
    "def run_tests(model_factory, category: str, not_biased_config: RunConfiguration):\n",
    "  data = pd.read_csv(f\"../../preprocessed/{category}/genes.csv\").drop(columns=[\"sample_id\"])\n",
    "  print(report_results(data, model_factory, get_parameters(data, model_factory, not_biased_config), seed_list).report)"
   ]
  },
  {
   "cell_type": "code",
   "execution_count": 9,
   "metadata": {},
   "outputs": [
    {
     "name": "stderr",
     "output_type": "stream",
     "text": [
      "100%|██████████| 100/100 [1:10:25<00:00, 42.25s/it]"
     ]
    },
    {
     "name": "stdout",
     "output_type": "stream",
     "text": [
      "     Metric          Overall             Male           Female\n",
      "0        F1  0.8871 ± 0.0253  0.8780 ± 0.0369  0.8867 ± 0.0322\n",
      "1    Recall  0.8889 ± 0.0231  0.8831 ± 0.0330  0.8955 ± 0.0279\n",
      "2   ROC AUC  0.9908 ± 0.0059  0.9907 ± 0.0060  0.9918 ± 0.0086\n",
      "3  Accuracy  0.8889 ± 0.0231  0.8831 ± 0.0330  0.8955 ± 0.0279\n"
     ]
    },
    {
     "name": "stderr",
     "output_type": "stream",
     "text": [
      "\n"
     ]
    }
   ],
   "source": [
    "run_tests(\n",
    "  category=\"min_tpm_5\",\n",
    "  model_factory=HistGradientBoostingClassifier,\n",
    "  not_biased_config=RunConfiguration(\n",
    "    run_grid_search=False,\n",
    "    grid_search_params={\"learning_rate\": (0.05, 0.1, 0.5, 1), \"max_features\": (0.1, 0.2, 0.5, \"sqrt\"), \"l2_regularization\": (0, 0.5, 1), \"max_depth\": (16, 32, 64, None)},\n",
    "    default_parameters={'learning_rate': 0.1, 'max_depth': 32, 'max_features': 0.1, 'l2_regularization': 0.5}\n",
    "  )\n",
    ")"
   ]
  },
  {
   "cell_type": "code",
   "execution_count": null,
   "metadata": {},
   "outputs": [
    {
     "name": "stdout",
     "output_type": "stream",
     "text": [
      "{'n_estimators': 32, 'max_depth': 16, 'max_features': 0.5}\n"
     ]
    },
    {
     "name": "stderr",
     "output_type": "stream",
     "text": [
      "100%|██████████| 100/100 [08:54<00:00,  5.35s/it]"
     ]
    },
    {
     "name": "stdout",
     "output_type": "stream",
     "text": [
      "     Metric          Overall             Male           Female\n",
      "0        F1  0.8569 ± 0.0242  0.8365 ± 0.0353  0.8637 ± 0.0345\n",
      "1    Recall  0.8681 ± 0.0221  0.8442 ± 0.0321  0.8806 ± 0.0288\n",
      "2   ROC AUC  0.9754 ± 0.0093  0.9747 ± 0.0139  0.9812 ± 0.0135\n",
      "3  Accuracy  0.8681 ± 0.0221  0.8442 ± 0.0321  0.8806 ± 0.0288\n"
     ]
    },
    {
     "name": "stderr",
     "output_type": "stream",
     "text": [
      "\n"
     ]
    }
   ],
   "source": [
    "run_tests(\n",
    "  category=\"min_tpm_5\",\n",
    "  model_factory=ExtraTreesClassifier,\n",
    "  not_biased_config=RunConfiguration(\n",
    "    run_grid_search=True,\n",
    "    grid_search_params={\"n_estimators\": (8, 16, 32, 64), \"max_features\": (0.2, 0.5, 1, \"sqrt\"), \"max_depth\": (16, 32, 64, None)},\n",
    "    default_parameters={'n_estimators': 32, 'max_depth': 16, 'max_features': 0.5}\n",
    "  )\n",
    ")"
   ]
  },
  {
   "cell_type": "code",
   "execution_count": null,
   "metadata": {},
   "outputs": [
    {
     "name": "stdout",
     "output_type": "stream",
     "text": [
      "{'n_estimators': 32, 'max_depth': 32, 'max_features': 0.5}\n"
     ]
    },
    {
     "name": "stderr",
     "output_type": "stream",
     "text": [
      "100%|██████████| 100/100 [32:45<00:00, 19.66s/it]"
     ]
    },
    {
     "name": "stdout",
     "output_type": "stream",
     "text": [
      "     Metric          Overall             Male           Female\n",
      "0        F1  0.8502 ± 0.0281  0.8395 ± 0.0368  0.8476 ± 0.0337\n",
      "1    Recall  0.8576 ± 0.0254  0.8571 ± 0.0327  0.8657 ± 0.0303\n",
      "2   ROC AUC  0.9745 ± 0.0102  0.9717 ± 0.0142  0.9802 ± 0.0130\n",
      "3  Accuracy  0.8576 ± 0.0254  0.8571 ± 0.0327  0.8657 ± 0.0303\n"
     ]
    },
    {
     "name": "stderr",
     "output_type": "stream",
     "text": [
      "\n"
     ]
    }
   ],
   "source": [
    "run_tests(\n",
    "  category=\"min_tpm_5\",\n",
    "  model_factory=RandomForestClassifier,\n",
    "  not_biased_config=RunConfiguration(\n",
    "    run_grid_search=True,\n",
    "    grid_search_params={\"n_estimators\": (32, 64, 128), \"max_features\": (0.2, 0.5, \"sqrt\"), \"max_depth\": (None, 32)},\n",
    "    default_parameters={'n_estimators': 64, 'max_depth': None, 'max_features': 0.2}\n",
    "  )\n",
    ")"
   ]
  },
  {
   "cell_type": "code",
   "execution_count": 56,
   "metadata": {},
   "outputs": [
    {
     "name": "stdout",
     "output_type": "stream",
     "text": [
      "{'n_estimators': 16, 'learning_rate': 0.1}\n"
     ]
    },
    {
     "name": "stderr",
     "output_type": "stream",
     "text": [
      "100%|██████████| 100/100 [08:31<00:00,  5.12s/it]"
     ]
    },
    {
     "name": "stdout",
     "output_type": "stream",
     "text": [
      "     Metric          Overall             Male           Female\n",
      "0        F1  0.8535 ± 0.0259  0.8398 ± 0.0336  0.8631 ± 0.0356\n",
      "1    Recall  0.8611 ± 0.0243  0.8442 ± 0.0317  0.8806 ± 0.0318\n",
      "2   ROC AUC  0.8879 ± 0.0176  0.8808 ± 0.0227  0.8965 ± 0.0243\n",
      "3  Accuracy  0.8611 ± 0.0243  0.8442 ± 0.0317  0.8806 ± 0.0318\n"
     ]
    },
    {
     "name": "stderr",
     "output_type": "stream",
     "text": [
      "\n"
     ]
    }
   ],
   "source": [
    "run_tests(\n",
    "  category=\"min_tpm_5\",\n",
    "  model_factory=lambda **kwargs: AdaBoostClassifier(ExtraTreesClassifier(n_estimators=32, max_depth=16, max_features=0.5), **kwargs),\n",
    "  not_biased_config=RunConfiguration(\n",
    "    run_grid_search=True,\n",
    "    grid_search_params={\"n_estimators\": (8, 16, 32, 64), \"learning_rate\": (0.1, 0.5, 1, 2)},\n",
    "    default_parameters = {\n",
    "    }\n",
    "  )\n",
    ")"
   ]
  },
  {
   "cell_type": "code",
   "execution_count": 57,
   "metadata": {},
   "outputs": [
    {
     "name": "stdout",
     "output_type": "stream",
     "text": [
      "{'n_estimators': 64, 'learning_rate': 2}\n"
     ]
    },
    {
     "name": "stderr",
     "output_type": "stream",
     "text": [
      "100%|██████████| 100/100 [36:40<00:00, 22.00s/it]"
     ]
    },
    {
     "name": "stdout",
     "output_type": "stream",
     "text": [
      "     Metric          Overall             Male           Female\n",
      "0        F1  0.8392 ± 0.0226  0.8294 ± 0.0322  0.8450 ± 0.0316\n",
      "1    Recall  0.8472 ± 0.0211  0.8442 ± 0.0289  0.8657 ± 0.0279\n",
      "2   ROC AUC  0.8822 ± 0.0165  0.8750 ± 0.0228  0.8850 ± 0.0236\n",
      "3  Accuracy  0.8472 ± 0.0211  0.8442 ± 0.0289  0.8657 ± 0.0279\n"
     ]
    },
    {
     "name": "stderr",
     "output_type": "stream",
     "text": [
      "\n"
     ]
    }
   ],
   "source": [
    "run_tests(\n",
    "  category=\"min_tpm_5\",\n",
    "  model_factory=lambda **kwargs: AdaBoostClassifier(RandomForestClassifier(n_estimators=32, max_depth=32, max_features=0.5), **kwargs),\n",
    "  not_biased_config=RunConfiguration(\n",
    "    run_grid_search=True,\n",
    "    grid_search_params={\"n_estimators\": (8, 16, 32, 64), \"learning_rate\": (0.1, 0.5, 1, 2)},\n",
    "    default_parameters = {\n",
    "    }\n",
    "  )\n",
    ")"
   ]
  }
 ],
 "metadata": {
  "colab": {
   "provenance": []
  },
  "kernelspec": {
   "display_name": ".venv",
   "language": "python",
   "name": "python3"
  },
  "language_info": {
   "codemirror_mode": {
    "name": "ipython",
    "version": 3
   },
   "file_extension": ".py",
   "mimetype": "text/x-python",
   "name": "python",
   "nbconvert_exporter": "python",
   "pygments_lexer": "ipython3",
   "version": "3.12.9"
  }
 },
 "nbformat": 4,
 "nbformat_minor": 0
}
