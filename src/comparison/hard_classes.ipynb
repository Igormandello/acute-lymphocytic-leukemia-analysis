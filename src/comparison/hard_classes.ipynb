{
 "cells": [
  {
   "cell_type": "code",
   "execution_count": 1,
   "metadata": {},
   "outputs": [],
   "source": [
    "%load_ext autoreload\n",
    "%autoreload 2"
   ]
  },
  {
   "cell_type": "code",
   "execution_count": 2,
   "metadata": {},
   "outputs": [],
   "source": [
    "import sys\n",
    "import os\n",
    "sys.path.append(os.path.join(os.getcwd(), '../'))"
   ]
  },
  {
   "cell_type": "code",
   "execution_count": 3,
   "metadata": {
    "id": "6uHoVF74CVci"
   },
   "outputs": [
    {
     "name": "stderr",
     "output_type": "stream",
     "text": [
      "/var/folders/vp/tqkr07mj3cn274npl2jmvy5w0000gq/T/ipykernel_6801/2302145829.py:21: DeprecationWarning: This function is deprecated. Please call randint(0, 4294967295 + 1) instead\n",
      "  seed_list = random.random_integers(low=0, high=2**32 - 1, size=25)\n"
     ]
    }
   ],
   "source": [
    "import pandas as pd\n",
    "import numpy as np\n",
    "import warnings\n",
    "import matplotlib.pyplot as plt\n",
    "\n",
    "import json\n",
    "from numpy import random\n",
    "from dataclasses import dataclass\n",
    "\n",
    "from model.utils import report_results\n",
    "from model.gradient_boosting import train_gradient_boosting\n",
    "from model.utils import MetricsResults\n",
    "\n",
    "from sklearn.ensemble import HistGradientBoostingClassifier\n",
    "\n",
    "from collections import defaultdict\n",
    "from functools import reduce\n",
    "\n",
    "DEFAULT_RANDOM_SEED = 774\n",
    "random.mtrand._rand.seed(DEFAULT_RANDOM_SEED)\n",
    "seed_list = random.random_integers(low=0, high=2**32 - 1, size=25)\n",
    "warnings.filterwarnings(\"ignore\")\n",
    "\n",
    "category=\"min_tpm_5\""
   ]
  },
  {
   "cell_type": "code",
   "execution_count": 4,
   "metadata": {},
   "outputs": [],
   "source": [
    "from model.gradient_boosting import TrainGradientBoostingResponse\n",
    "\n",
    "\n",
    "def run_tests(genes: int, subtype: str, params: dict) -> TrainGradientBoostingResponse:\n",
    "  data = pd.read_csv(f\"../../preprocessed/{category}/genes.csv\").drop(columns=[\"sample_id\"])\n",
    "  importances = json.loads(open(f\"../../preprocessed/{category}/important_genes_logistic_f1.json\").readline())\n",
    "\n",
    "  chosen_genes = list(set([y[\"gene\"] for x in [sex_values[:genes] for subtype_items in importances.values() for sex_values in subtype_items.values()] for y in x]))\n",
    "  print(f\"Total chosen genes: {len(chosen_genes)}\")\n",
    "\n",
    "  df = data[[\"subtype\", \"sex\", *chosen_genes]]\n",
    "  # df = pd.concat([df, df[df[\"subtype\"] == subtype]])\n",
    "  df[\"subtype_target\"] = df[\"subtype\"] == subtype\n",
    "  return train_gradient_boosting(\"subtype_target\", df, **params)"
   ]
  },
  {
   "cell_type": "code",
   "execution_count": 5,
   "metadata": {},
   "outputs": [
    {
     "name": "stdout",
     "output_type": "stream",
     "text": [
      "Total chosen genes: 336\n"
     ]
    },
    {
     "data": {
      "text/plain": [
       "0.6891304347826087"
      ]
     },
     "execution_count": 5,
     "metadata": {},
     "output_type": "execute_result"
    }
   ],
   "source": [
    "result = run_tests(genes=20, subtype=\"iAMP21\", params={'class_weight': 'balanced', 'l2_regularization': 0.5, 'max_depth': 16, 'max_features': 0.1, 'learning_rate': 0.05})\n",
    "result.acc"
   ]
  },
  {
   "cell_type": "code",
   "execution_count": 6,
   "metadata": {},
   "outputs": [
    {
     "name": "stdout",
     "output_type": "stream",
     "text": [
      "              precision    recall  f1-score   support\n",
      "\n",
      "       False       0.98      0.98      0.98       138\n",
      "        True       0.40      0.40      0.40         5\n",
      "\n",
      "    accuracy                           0.96       143\n",
      "   macro avg       0.69      0.69      0.69       143\n",
      "weighted avg       0.96      0.96      0.96       143\n",
      "\n"
     ]
    }
   ],
   "source": [
    "print(result.test_report)"
   ]
  }
 ],
 "metadata": {
  "colab": {
   "provenance": []
  },
  "kernelspec": {
   "display_name": ".venv",
   "language": "python",
   "name": "python3"
  },
  "language_info": {
   "codemirror_mode": {
    "name": "ipython",
    "version": 3
   },
   "file_extension": ".py",
   "mimetype": "text/x-python",
   "name": "python",
   "nbconvert_exporter": "python",
   "pygments_lexer": "ipython3",
   "version": "3.12.9"
  }
 },
 "nbformat": 4,
 "nbformat_minor": 0
}
