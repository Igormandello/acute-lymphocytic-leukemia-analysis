{
 "cells": [
  {
   "cell_type": "code",
   "execution_count": 2,
   "metadata": {},
   "outputs": [],
   "source": [
    "%load_ext autoreload\n",
    "%autoreload 2"
   ]
  },
  {
   "cell_type": "code",
   "execution_count": 3,
   "metadata": {},
   "outputs": [],
   "source": [
    "import sys\n",
    "import os\n",
    "sys.path.append(os.path.join(os.getcwd(), '../'))"
   ]
  },
  {
   "cell_type": "code",
   "execution_count": 4,
   "metadata": {
    "id": "6uHoVF74CVci"
   },
   "outputs": [
    {
     "name": "stderr",
     "output_type": "stream",
     "text": [
      "/var/folders/vp/tqkr07mj3cn274npl2jmvy5w0000gq/T/ipykernel_7730/3379729439.py:15: DeprecationWarning: This function is deprecated. Please call randint(0, 4294967295 + 1) instead\n",
      "  seed_list = random.random_integers(low=0, high=2**32 - 1, size=100)\n"
     ]
    }
   ],
   "source": [
    "import pandas as pd\n",
    "import warnings\n",
    "\n",
    "import json\n",
    "from numpy import random\n",
    "from dataclasses import dataclass\n",
    "\n",
    "from model.utils import report_results\n",
    "from model.gradient_boosting import train_gradient_boosting\n",
    "\n",
    "from sklearn.ensemble import HistGradientBoostingClassifier\n",
    "\n",
    "DEFAULT_RANDOM_SEED = 774\n",
    "random.mtrand._rand.seed(DEFAULT_RANDOM_SEED)\n",
    "seed_list = random.random_integers(low=0, high=2**32 - 1, size=100)\n",
    "warnings.filterwarnings(\"ignore\")\n",
    "\n",
    "search_params = {\"learning_rate\": (0.05, 0.1, 0.5, 1), \"max_features\": (0.05, 0.1, 0.15, 0.2, 0.5, \"sqrt\"), \"l2_regularization\": (0, 0.5, 1), \"max_depth\": (16, 32, 64, None)}"
   ]
  },
  {
   "cell_type": "code",
   "execution_count": 5,
   "metadata": {},
   "outputs": [],
   "source": [
    "@dataclass\n",
    "class RunConfiguration:\n",
    "  run_grid_search: bool\n",
    "  default_parameters: dict"
   ]
  },
  {
   "cell_type": "code",
   "execution_count": null,
   "metadata": {},
   "outputs": [],
   "source": [
    "def get_parameters(df: pd.DataFrame, run_config: RunConfiguration):\n",
    "  if not run_config.run_grid_search:\n",
    "    return run_config.default_parameters\n",
    "  \n",
    "  grid_search_response = train_gradient_boosting(target=\"subtype\", data=df, grid_search_params=search_params)\n",
    "  parameters = {k: grid_search_response.model.get_params()[k] for k in grid_search_response.model.get_params().keys() & search_params.keys() }\n",
    "  print(parameters)\n",
    "  return parameters\n",
    "\n",
    "def run_tests(category: str, pvalues: str, select_genes, not_biased_config: RunConfiguration, biased_config: RunConfiguration = None):\n",
    "  data = pd.read_csv(f\"../../preprocessed/{category}/genes.csv\").drop(columns=[\"sample_id\"])\n",
    "  pvalues = json.loads(open(f\"../../preprocessed/{category}/important_genes_{pvalues}_pvalue.json\").readline())\n",
    "\n",
    "  chosen_genes_all = select_genes(pvalues)\n",
    "  print(f\"Total chosen genes: {len(chosen_genes_all)}\")\n",
    "\n",
    "  print(\"Reporting not biased results\")\n",
    "  df = data[[\"subtype\", \"sex\", *chosen_genes_all]]\n",
    "  print(report_results(df, HistGradientBoostingClassifier, get_parameters(df, not_biased_config), seed_list).report)\n",
    "\n",
    "  if biased_config:\n",
    "    print(\"Reporting biased results\")\n",
    "    chosen_genes_male = list(set([y[\"gene\"] for x in [subtype_items[\"Male\"][:50] for subtype_items in pvalues.values()] for y in x]))\n",
    "    df = data[[\"subtype\", \"sex\", *chosen_genes_male]]\n",
    "    print(report_results(df, HistGradientBoostingClassifier, get_parameters(df, biased_config), seed_list).report)\n",
    "\n",
    "    chosen_genes_female = list(set([y[\"gene\"] for x in [subtype_items[\"Female\"][:50] for subtype_items in pvalues.values()] for y in x]))\n",
    "    df = data[[\"subtype\", \"sex\", *chosen_genes_female]]\n",
    "    print(report_results(df, HistGradientBoostingClassifier, get_parameters(df, biased_config), seed_list).report)"
   ]
  },
  {
   "cell_type": "markdown",
   "metadata": {},
   "source": [
    "# TTest 25 genes per sex-subtype"
   ]
  },
  {
   "cell_type": "code",
   "execution_count": null,
   "metadata": {},
   "outputs": [
    {
     "name": "stdout",
     "output_type": "stream",
     "text": [
      "Total chosen genes: 375\n",
      "Reporting not biased results\n",
      "{'learning_rate': 0.1, 'max_features': 0.1, 'l2_regularization': 0, 'max_depth': None}\n"
     ]
    },
    {
     "name": "stderr",
     "output_type": "stream",
     "text": [
      "100%|██████████| 100/100 [08:30<00:00,  5.10s/it]"
     ]
    },
    {
     "name": "stdout",
     "output_type": "stream",
     "text": [
      "     Metric          Overall             Male           Female\n",
      "0        F1  0.8761 ± 0.0267  0.8518 ± 0.0374  0.8994 ± 0.0368\n",
      "1    Recall  0.8819 ± 0.0244  0.8571 ± 0.0343  0.9104 ± 0.0320\n",
      "2   ROC AUC  0.9873 ± 0.0061  0.9865 ± 0.0072  0.9903 ± 0.0090\n",
      "3  Accuracy  0.8819 ± 0.0244  0.8571 ± 0.0343  0.9104 ± 0.0320\n",
      "Reporting biased results\n"
     ]
    },
    {
     "name": "stderr",
     "output_type": "stream",
     "text": [
      "\n"
     ]
    },
    {
     "name": "stdout",
     "output_type": "stream",
     "text": [
      "{'learning_rate': 0.1, 'max_features': 0.05, 'l2_regularization': 0, 'max_depth': 32}\n"
     ]
    },
    {
     "name": "stderr",
     "output_type": "stream",
     "text": [
      "100%|██████████| 100/100 [06:57<00:00,  4.17s/it]"
     ]
    },
    {
     "name": "stdout",
     "output_type": "stream",
     "text": [
      "     Metric          Overall             Male           Female\n",
      "0        F1  0.8795 ± 0.0281  0.8695 ± 0.0405  0.8854 ± 0.0314\n",
      "1    Recall  0.8889 ± 0.0258  0.8831 ± 0.0369  0.8955 ± 0.0275\n",
      "2   ROC AUC  0.9872 ± 0.0063  0.9889 ± 0.0063  0.9881 ± 0.0102\n",
      "3  Accuracy  0.8889 ± 0.0258  0.8831 ± 0.0369  0.8955 ± 0.0275\n"
     ]
    },
    {
     "name": "stderr",
     "output_type": "stream",
     "text": [
      "\n"
     ]
    },
    {
     "name": "stdout",
     "output_type": "stream",
     "text": [
      "{'learning_rate': 0.1, 'max_features': 0.1, 'l2_regularization': 0.5, 'max_depth': 16}\n"
     ]
    },
    {
     "name": "stderr",
     "output_type": "stream",
     "text": [
      "100%|██████████| 100/100 [20:05<00:00, 12.06s/it]  "
     ]
    },
    {
     "name": "stdout",
     "output_type": "stream",
     "text": [
      "     Metric          Overall             Male           Female\n",
      "0        F1  0.8524 ± 0.0267  0.8272 ± 0.0386  0.8809 ± 0.0351\n",
      "1    Recall  0.8611 ± 0.0249  0.8442 ± 0.0360  0.8955 ± 0.0305\n",
      "2   ROC AUC  0.9847 ± 0.0063  0.9804 ± 0.0074  0.9890 ± 0.0087\n",
      "3  Accuracy  0.8611 ± 0.0249  0.8442 ± 0.0360  0.8955 ± 0.0305\n"
     ]
    },
    {
     "name": "stderr",
     "output_type": "stream",
     "text": [
      "\n"
     ]
    }
   ],
   "source": [
    "run_tests(\n",
    "  category=\"min_tpm_5\",\n",
    "  pvalues=\"ttest\",\n",
    "  select_genes=lambda pvalues: list(set([y[\"gene\"] for x in [sex_values[:25] for subtype_items in pvalues.values() for sex_values in subtype_items.values()] for y in x])),\n",
    "  not_biased_config=RunConfiguration(\n",
    "    run_grid_search=True,\n",
    "    default_parameters={'learning_rate': 0.1, 'max_features': 0.1, 'l2_regularization': 0, 'max_depth': None}\n",
    "  ),\n",
    "  biased_config=RunConfiguration(\n",
    "    run_grid_search=True,\n",
    "    default_parameters={'learning_rate': 0.1, 'max_features': 0.05, 'l2_regularization': 0, 'max_depth': 32}\n",
    "  )\n",
    ")"
   ]
  },
  {
   "cell_type": "markdown",
   "metadata": {},
   "source": [
    "## TTest overall (without grouping by sex), 45 genes per subtype"
   ]
  },
  {
   "cell_type": "code",
   "execution_count": null,
   "metadata": {},
   "outputs": [
    {
     "name": "stdout",
     "output_type": "stream",
     "text": [
      "Total chosen genes: 384\n",
      "Reporting not biased results\n"
     ]
    },
    {
     "name": "stderr",
     "output_type": "stream",
     "text": [
      "100%|██████████| 100/100 [10:05<00:00,  6.06s/it]"
     ]
    },
    {
     "name": "stdout",
     "output_type": "stream",
     "text": [
      "     Metric          Overall             Male           Female\n",
      "0        F1  0.8657 ± 0.0288  0.8400 ± 0.0373  0.8852 ± 0.0364\n",
      "1    Recall  0.8715 ± 0.0264  0.8571 ± 0.0342  0.8955 ± 0.0325\n",
      "2   ROC AUC  0.9843 ± 0.0064  0.9844 ± 0.0083  0.9875 ± 0.0092\n",
      "3  Accuracy  0.8715 ± 0.0264  0.8571 ± 0.0342  0.8955 ± 0.0325\n"
     ]
    },
    {
     "name": "stderr",
     "output_type": "stream",
     "text": [
      "\n"
     ]
    }
   ],
   "source": [
    "run_tests(\n",
    "  category=\"min_tpm_5\",\n",
    "  pvalues=\"ttest_overall\",\n",
    "  select_genes=lambda pvalues: list(set([y[\"gene\"] for x in [subtype_items[:45] for subtype_items in pvalues.values()] for y in x])),\n",
    "  not_biased_config=RunConfiguration(\n",
    "    run_grid_search=False,\n",
    "    default_parameters = {\n",
    "      \"l2_regularization\": 0,\n",
    "      \"learning_rate\": 0.1,\n",
    "      \"max_depth\": 32,\n",
    "      \"max_features\": 0.2,\n",
    "      \"min_samples_leaf\": 15\n",
    "    }\n",
    "  ),\n",
    "  biased_config=None\n",
    ")"
   ]
  },
  {
   "cell_type": "markdown",
   "metadata": {},
   "source": [
    "## TTest first 400 genes by pvalue"
   ]
  },
  {
   "cell_type": "code",
   "execution_count": null,
   "metadata": {},
   "outputs": [
    {
     "name": "stdout",
     "output_type": "stream",
     "text": [
      "Total chosen genes: 400\n",
      "Reporting not biased results\n"
     ]
    },
    {
     "name": "stderr",
     "output_type": "stream",
     "text": [
      "100%|██████████| 100/100 [13:43<00:00,  8.23s/it]"
     ]
    },
    {
     "name": "stdout",
     "output_type": "stream",
     "text": [
      "     Metric          Overall             Male           Female\n",
      "0        F1  0.8231 ± 0.0270  0.8116 ± 0.0343  0.8249 ± 0.0381\n",
      "1    Recall  0.8333 ± 0.0256  0.8182 ± 0.0329  0.8358 ± 0.0352\n",
      "2   ROC AUC  0.9741 ± 0.0088  0.9710 ± 0.0105  0.9770 ± 0.0123\n",
      "3  Accuracy  0.8333 ± 0.0256  0.8182 ± 0.0329  0.8358 ± 0.0352\n"
     ]
    },
    {
     "name": "stderr",
     "output_type": "stream",
     "text": [
      "\n"
     ]
    }
   ],
   "source": [
    "run_tests(\n",
    "  category=\"min_tpm_5\",\n",
    "  pvalues=\"ttest\",\n",
    "  select_genes=lambda pvalues: list(set([x[\"gene\"] for x in sorted([z for x in pvalues.values() for y in x.values() for z in y], key=lambda x: x[\"pvalue\"])]))[:400],\n",
    "  not_biased_config=RunConfiguration(\n",
    "    run_grid_search=False,\n",
    "    default_parameters = {\n",
    "      \"l2_regularization\": 0,\n",
    "      \"learning_rate\": 0.1,\n",
    "      \"max_depth\": 32,\n",
    "      \"max_features\": 0.2,\n",
    "      \"min_samples_leaf\": 15\n",
    "    }\n",
    "  ),\n",
    "  biased_config=None\n",
    ")"
   ]
  },
  {
   "cell_type": "markdown",
   "metadata": {},
   "source": [
    "## TTest overall first 400 genes by pvalue"
   ]
  },
  {
   "cell_type": "code",
   "execution_count": null,
   "metadata": {},
   "outputs": [
    {
     "name": "stdout",
     "output_type": "stream",
     "text": [
      "Total chosen genes: 400\n",
      "Reporting not biased results\n"
     ]
    },
    {
     "name": "stderr",
     "output_type": "stream",
     "text": [
      "100%|██████████| 100/100 [11:43<00:00,  7.03s/it]"
     ]
    },
    {
     "name": "stdout",
     "output_type": "stream",
     "text": [
      "     Metric          Overall             Male           Female\n",
      "0        F1  0.8166 ± 0.0274  0.8118 ± 0.0378  0.8210 ± 0.0344\n",
      "1    Recall  0.8264 ± 0.0261  0.8182 ± 0.0358  0.8358 ± 0.0322\n",
      "2   ROC AUC  0.9736 ± 0.0091  0.9691 ± 0.0112  0.9773 ± 0.0122\n",
      "3  Accuracy  0.8264 ± 0.0261  0.8182 ± 0.0358  0.8358 ± 0.0322\n"
     ]
    },
    {
     "name": "stderr",
     "output_type": "stream",
     "text": [
      "\n"
     ]
    }
   ],
   "source": [
    "run_tests(\n",
    "  category=\"min_tpm_5\",\n",
    "  pvalues=\"ttest_overall\",\n",
    "  select_genes=lambda pvalues: list(set([x[\"gene\"] for x in sorted([x for subtype_items in pvalues.values() for x in subtype_items], key=lambda x: x[\"pvalue\"])]))[:400],\n",
    "  not_biased_config=RunConfiguration(\n",
    "    run_grid_search=False,\n",
    "    default_parameters = {\n",
    "      \"l2_regularization\": 0,\n",
    "      \"learning_rate\": 0.1,\n",
    "      \"max_depth\": 32,\n",
    "      \"max_features\": 0.2,\n",
    "      \"min_samples_leaf\": 15\n",
    "    }\n",
    "  ),\n",
    "  biased_config=None\n",
    ")"
   ]
  },
  {
   "cell_type": "markdown",
   "metadata": {},
   "source": [
    "# Wilcoxon"
   ]
  },
  {
   "cell_type": "code",
   "execution_count": 7,
   "metadata": {},
   "outputs": [
    {
     "name": "stdout",
     "output_type": "stream",
     "text": [
      "Total chosen genes: 411\n",
      "Reporting not biased results\n"
     ]
    },
    {
     "name": "stderr",
     "output_type": "stream",
     "text": [
      "100%|██████████| 100/100 [36:29<00:00, 21.89s/it]\n"
     ]
    },
    {
     "name": "stdout",
     "output_type": "stream",
     "text": [
      "     Metric          Overall             Male           Female\n",
      "0        F1  0.8913 ± 0.0212  0.8799 ± 0.0303  0.8947 ± 0.0298\n",
      "1    Recall  0.8958 ± 0.0199  0.8831 ± 0.0278  0.8955 ± 0.0272\n",
      "2   ROC AUC  0.9897 ± 0.0053  0.9897 ± 0.0052  0.9915 ± 0.0081\n",
      "3  Accuracy  0.8958 ± 0.0199  0.8831 ± 0.0278  0.8955 ± 0.0272\n"
     ]
    }
   ],
   "source": [
    "run_tests(\n",
    "  category=\"min_tpm_5\",\n",
    "  pvalues=\"wilcoxon\",\n",
    "  select_genes=lambda pvalues: list(set([y[\"gene\"] for x in [sex_values[:25] for subtype_items in pvalues.values() for sex_values in subtype_items.values()] for y in x])),\n",
    "  not_biased_config=RunConfiguration(\n",
    "    run_grid_search=False,\n",
    "    default_parameters={'learning_rate': 0.1, 'max_features': 0.1, 'l2_regularization': 0, 'max_depth': None}\n",
    "  )\n",
    ")"
   ]
  },
  {
   "cell_type": "code",
   "execution_count": 8,
   "metadata": {},
   "outputs": [
    {
     "name": "stdout",
     "output_type": "stream",
     "text": [
      "Total chosen genes: 358\n",
      "Reporting not biased results\n"
     ]
    },
    {
     "name": "stderr",
     "output_type": "stream",
     "text": [
      "100%|██████████| 100/100 [47:38<00:00, 28.58s/it]  \n"
     ]
    },
    {
     "name": "stdout",
     "output_type": "stream",
     "text": [
      "     Metric          Overall             Male           Female\n",
      "0        F1  0.8744 ± 0.0231  0.8650 ± 0.0335  0.8818 ± 0.0329\n",
      "1    Recall  0.8819 ± 0.0210  0.8701 ± 0.0298  0.8955 ± 0.0285\n",
      "2   ROC AUC  0.9869 ± 0.0062  0.9866 ± 0.0066  0.9885 ± 0.0085\n",
      "3  Accuracy  0.8819 ± 0.0210  0.8701 ± 0.0298  0.8955 ± 0.0285\n"
     ]
    }
   ],
   "source": [
    "run_tests(\n",
    "  category=\"min_tpm_5\",\n",
    "  pvalues=\"cramervonmises\",\n",
    "  select_genes=lambda pvalues: list(set([y[\"gene\"] for x in [sex_values[:25] for subtype_items in pvalues.values() for sex_values in subtype_items.values()] for y in x])),\n",
    "  not_biased_config=RunConfiguration(\n",
    "    run_grid_search=False,\n",
    "    default_parameters={'learning_rate': 0.1, 'max_features': 0.1, 'l2_regularization': 0, 'max_depth': None}\n",
    "  )\n",
    ")"
   ]
  }
 ],
 "metadata": {
  "colab": {
   "provenance": []
  },
  "kernelspec": {
   "display_name": ".venv",
   "language": "python",
   "name": "python3"
  },
  "language_info": {
   "codemirror_mode": {
    "name": "ipython",
    "version": 3
   },
   "file_extension": ".py",
   "mimetype": "text/x-python",
   "name": "python",
   "nbconvert_exporter": "python",
   "pygments_lexer": "ipython3",
   "version": "3.12.9"
  }
 },
 "nbformat": 4,
 "nbformat_minor": 0
}
