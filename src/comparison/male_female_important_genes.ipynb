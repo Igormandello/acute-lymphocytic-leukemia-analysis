{
 "cells": [
  {
   "cell_type": "code",
   "execution_count": 1,
   "metadata": {},
   "outputs": [],
   "source": [
    "%load_ext autoreload\n",
    "%autoreload 2"
   ]
  },
  {
   "cell_type": "code",
   "execution_count": 2,
   "metadata": {},
   "outputs": [],
   "source": [
    "import sys\n",
    "import os\n",
    "sys.path.append(os.path.join(os.getcwd(), '../'))"
   ]
  },
  {
   "cell_type": "code",
   "execution_count": 3,
   "metadata": {
    "id": "6uHoVF74CVci"
   },
   "outputs": [
    {
     "name": "stderr",
     "output_type": "stream",
     "text": [
      "/var/folders/vy/961mqd596950r695lpmt_6qh0000gn/T/ipykernel_6909/3256053279.py:12: DeprecationWarning: This function is deprecated. Please call randint(0, 4294967295 + 1) instead\n",
      "  seed_list = random.random_integers(low=0, high=2**32 - 1, size=100)\n"
     ]
    }
   ],
   "source": [
    "import pandas as pd\n",
    "import warnings\n",
    "\n",
    "from numpy import random\n",
    "from dataclasses import dataclass\n",
    "\n",
    "from model.utils import report_results\n",
    "from model.gradient_boosting import train_gradient_boosting\n",
    "\n",
    "DEFAULT_RANDOM_SEED = 774\n",
    "random.mtrand._rand.seed(DEFAULT_RANDOM_SEED)\n",
    "seed_list = random.random_integers(low=0, high=2**32 - 1, size=100)\n",
    "warnings.filterwarnings(\"ignore\")\n",
    "\n",
    "search_params = {\"learning_rate\": (0.05, 0.1, 0.5, 1), \"max_features\": (0.05, 0.1, 0.15, 0.2, 0.5,), \"min_samples_leaf\": (5, 10, 15, 20), \"l2_regularization\": (0, 0.5, 1), \"max_depth\": (16, 32, 64, 128, 256)}"
   ]
  },
  {
   "cell_type": "code",
   "execution_count": 4,
   "metadata": {},
   "outputs": [],
   "source": [
    "@dataclass\n",
    "class RunConfiguration:\n",
    "  run_grid_search: bool\n",
    "  default_parameters: dict"
   ]
  },
  {
   "cell_type": "code",
   "execution_count": null,
   "metadata": {},
   "outputs": [],
   "source": [
    "from model.forest import train_forest\n",
    "from utils import get_importances\n",
    "\n",
    "\n",
    "def choose_important_genes(data: pd.DataFrame):\n",
    "  random.mtrand._rand.seed(DEFAULT_RANDOM_SEED)\n",
    "\n",
    "  importances_by_subtype = {}\n",
    "  forest_params = {\n",
    "    \"n_estimators\": 64,\n",
    "    \"max_depth\": 2,\n",
    "    \"class_weight\": \"balanced\"\n",
    "  }\n",
    "\n",
    "  f1s_by_subtype = {}\n",
    "  tops = list(range(20, 80, 5))\n",
    "\n",
    "  genes = set()\n",
    "  for subtype in data[\"subtype\"].unique():\n",
    "    targeted_data = data.copy()\n",
    "    targeted_data[\"subtype_target\"] = targeted_data[\"subtype\"] == subtype\n",
    "    response = train_forest(\"subtype_target\", data=targeted_data, **forest_params)\n",
    "\n",
    "    f1s_by_subtype[subtype] = []\n",
    "    targets = []\n",
    "    for top in tops:\n",
    "      importances_target = get_importances(response.model.feature_importances_, response.feature_names, top=top)\n",
    "      current_important_data = targeted_data.copy()[[\"subtype_target\", *importances_target.index]]\n",
    "\n",
    "      search_params = None\n",
    "      if subtype in [\"iAMP21\", \"BCRABL1\"]:\n",
    "        search_params = {\"n_estimators\": (2, 4, 8, 16, 32, 64), \"max_depth\": (2, 4, 16, 64)}\n",
    "\n",
    "      subset_response = train_forest(\"subtype_target\", data=current_important_data, grid_search_scoring=\"recall\", grid_search_params=search_params, **forest_params)\n",
    "      f1s_by_subtype[subtype].append(subset_response.f1)\n",
    "      targets.append(importances_target)\n",
    "\n",
    "    i, _ = max(enumerate(f1s_by_subtype[subtype]), key=lambda x: x[1])\n",
    "\n",
    "    importances_target = targets[i]\n",
    "    importances_by_subtype[subtype] = importances_target\n",
    "    genes |= set(importances_target.index)\n",
    "\n",
    "  return list(genes)\n",
    "\n",
    "def get_parameters(df: pd.DataFrame, run_config: RunConfiguration):\n",
    "  if not run_config.run_grid_search:\n",
    "    return run_config.default_parameters\n",
    "  \n",
    "  grid_search_response = train_gradient_boosting(target=\"subtype\", data=df, grid_search_params=search_params)\n",
    "  parameters = {k: grid_search_response.model.get_params()[k] for k in grid_search_response.model.get_params().keys() & search_params.keys() }\n",
    "  print(parameters)\n",
    "  return parameters\n",
    "\n",
    "def run_tests(category: str, not_biased_config: RunConfiguration, biased_config: RunConfiguration):\n",
    "  data = pd.read_csv(f\"../../preprocessed/{category}/genes.csv\").drop(columns=[\"sample_id\"])\n",
    "\n",
    "  chosen_genes_all = choose_important_genes(data[data[\"sex\"] == \"Male\"])\n",
    "  chosen_genes_male = choose_important_genes(data[data[\"sex\"] == \"Male\"])\n",
    "  print(f\"Total chosen genes: {len(chosen_genes_all)}\")\n",
    "  print(f\"Total chosen genes (biased): {len(chosen_genes_male)}\")\n",
    "\n",
    "  print(\"Reporting not biased results\")\n",
    "  df = data[[\"subtype\", \"sex\", *chosen_genes_all]]\n",
    "  report_results(df, get_parameters(df, not_biased_config), seed_list, is_biased=False)\n",
    "\n",
    "  print(\"Reporting biased results\")\n",
    "  df = data[[\"subtype\", \"sex\", *chosen_genes_male]]\n",
    "  report_results(df, get_parameters(df[df[\"sex\"] == \"Male\"], biased_config), seed_list, is_biased=True)"
   ]
  },
  {
   "cell_type": "code",
   "execution_count": null,
   "metadata": {},
   "outputs": [
    {
     "name": "stdout",
     "output_type": "stream",
     "text": [
      "Total chosen genes: 249\n",
      "Total chosen genes (biased): 215\n",
      "Reporting not biased results\n",
      "{'max_features': 0.15, 'max_depth': 64, 'min_samples_leaf': 20, 'l2_regularization': 0.5, 'learning_rate': 0.1}\n"
     ]
    },
    {
     "name": "stderr",
     "output_type": "stream",
     "text": [
      "100%|██████████| 100/100 [02:59<00:00,  1.80s/it]\n"
     ]
    },
    {
     "name": "stdout",
     "output_type": "stream",
     "text": [
      "F1: 0.8824 ± 0.0264\n",
      "Male F1: 0.8812 ± 0.0338\n",
      "Female F1: 0.8812 ± 0.0361\n",
      "Reporting biased results\n",
      "{'max_features': 0.2, 'max_depth': 128, 'min_samples_leaf': 10, 'l2_regularization': 1, 'learning_rate': 0.5}\n"
     ]
    },
    {
     "name": "stderr",
     "output_type": "stream",
     "text": [
      "100%|██████████| 100/100 [02:18<00:00,  1.38s/it]"
     ]
    },
    {
     "name": "stdout",
     "output_type": "stream",
     "text": [
      "F1: 0.8209 ± 0.0166\n",
      "Male F1: 0.8312 ± 0.0404\n",
      "Female F1: 0.8169 ± 0.0179\n"
     ]
    },
    {
     "name": "stderr",
     "output_type": "stream",
     "text": [
      "\n"
     ]
    }
   ],
   "source": [
    "run_tests(\n",
    "  category=\"min_tpm_0\",\n",
    "  not_biased_config=RunConfiguration(\n",
    "    run_grid_search=True,\n",
    "    default_parameters = { \"max_depth\": 64, \"learning_rate\": 0.1, \"l2_regularization\": 0, \"min_samples_leaf\": 20, \"max_features\": 0.1 }\n",
    "  ),\n",
    "  biased_config=RunConfiguration(\n",
    "    run_grid_search=True,\n",
    "    default_parameters = { \"max_depth\": 32, \"learning_rate\": 0.1, \"l2_regularization\": 0, \"min_samples_leaf\": 15, \"max_features\": 0.05 }\n",
    "  )\n",
    ")\n",
    "\n",
    "# Total chosen genes: 249\n",
    "# Total chosen genes (biased): 215\n",
    "# Reporting not biased results\n",
    "# {'max_features': 0.15, 'max_depth': 64, 'min_samples_leaf': 20, 'l2_regularization': 0.5, 'learning_rate': 0.1}\n",
    "# 100%|██████████| 100/100 [02:59<00:00,  1.80s/it]\n",
    "# F1: 0.8824 ± 0.0264\n",
    "# Male F1: 0.8812 ± 0.0338\n",
    "# Female F1: 0.8812 ± 0.0361\n",
    "# Reporting biased results\n",
    "# {'max_features': 0.2, 'max_depth': 128, 'min_samples_leaf': 10, 'l2_regularization': 1, 'learning_rate': 0.5}\n",
    "# 100%|██████████| 100/100 [02:18<00:00,  1.38s/it]\n",
    "# F1: 0.8209 ± 0.0166\n",
    "# Male F1: 0.8312 ± 0.0404\n",
    "# Female F1: 0.8169 ± 0.0179"
   ]
  },
  {
   "cell_type": "code",
   "execution_count": null,
   "metadata": {},
   "outputs": [
    {
     "name": "stdout",
     "output_type": "stream",
     "text": [
      "Total chosen genes: 277\n",
      "Total chosen genes (biased): 246\n",
      "Reporting not biased results\n",
      "{'max_features': 0.1, 'max_depth': 16, 'min_samples_leaf': 20, 'l2_regularization': 1, 'learning_rate': 0.5}\n"
     ]
    },
    {
     "name": "stderr",
     "output_type": "stream",
     "text": [
      "100%|██████████| 100/100 [3:39:12<00:00, 131.52s/it] "
     ]
    },
    {
     "name": "stdout",
     "output_type": "stream",
     "text": [
      "F1: 0.8642 ± 0.0289\n",
      "Male F1: 0.8626 ± 0.0377\n",
      "Female F1: 0.8629 ± 0.0425\n",
      "Reporting biased results\n"
     ]
    },
    {
     "name": "stderr",
     "output_type": "stream",
     "text": [
      "\n"
     ]
    },
    {
     "name": "stdout",
     "output_type": "stream",
     "text": [
      "{'max_features': 0.2, 'max_depth': 64, 'min_samples_leaf': 15, 'l2_regularization': 1, 'learning_rate': 0.5}\n"
     ]
    },
    {
     "name": "stderr",
     "output_type": "stream",
     "text": [
      "100%|██████████| 100/100 [03:04<00:00,  1.85s/it]"
     ]
    },
    {
     "name": "stdout",
     "output_type": "stream",
     "text": [
      "F1: 0.8438 ± 0.0160\n",
      "Male F1: 0.8456 ± 0.0392\n",
      "Female F1: 0.8422 ± 0.0164\n"
     ]
    },
    {
     "name": "stderr",
     "output_type": "stream",
     "text": [
      "\n"
     ]
    }
   ],
   "source": [
    "run_tests(\n",
    "  category=\"min_tpm_5\",\n",
    "  not_biased_config=RunConfiguration(\n",
    "    run_grid_search=True,\n",
    "    default_parameters = {\n",
    "      \"l2_regularization\": 0.5,\n",
    "      \"learning_rate\": 0.1,\n",
    "      \"max_depth\": 256,\n",
    "      \"max_features\": 0.2,\n",
    "      \"min_samples_leaf\": 10\n",
    "    }\n",
    "  ),\n",
    "  biased_config=RunConfiguration(\n",
    "    run_grid_search=True,\n",
    "    default_parameters = {\n",
    "      \"learning_rate\": 0.5,\n",
    "      \"l2_regularization\": 1.5,\n",
    "      \"max_features\": 0.3,\n",
    "      \"min_samples_leaf\": 3,\n",
    "      \"max_depth\": 8\n",
    "  }\n",
    "  )\n",
    ")\n",
    "\n",
    "# Total chosen genes: 277\n",
    "# Total chosen genes (biased): 246\n",
    "# Reporting not biased results\n",
    "# {'max_features': 0.1, 'max_depth': 16, 'min_samples_leaf': 20, 'l2_regularization': 1, 'learning_rate': 0.5}\n",
    "# 100%|██████████| 100/100 [3:39:12<00:00, 131.52s/it] \n",
    "# F1: 0.8642 ± 0.0289\n",
    "# Male F1: 0.8626 ± 0.0377\n",
    "# Female F1: 0.8629 ± 0.0425\n",
    "# Reporting biased results\n",
    "\n",
    "# {'max_features': 0.2, 'max_depth': 64, 'min_samples_leaf': 15, 'l2_regularization': 1, 'learning_rate': 0.5}\n",
    "# 100%|██████████| 100/100 [03:04<00:00,  1.85s/it]\n",
    "# F1: 0.8438 ± 0.0160\n",
    "# Male F1: 0.8456 ± 0.0392\n",
    "# Female F1: 0.8422 ± 0.0164"
   ]
  }
 ],
 "metadata": {
  "colab": {
   "provenance": []
  },
  "kernelspec": {
   "display_name": ".venv",
   "language": "python",
   "name": "python3"
  },
  "language_info": {
   "codemirror_mode": {
    "name": "ipython",
    "version": 3
   },
   "file_extension": ".py",
   "mimetype": "text/x-python",
   "name": "python",
   "nbconvert_exporter": "python",
   "pygments_lexer": "ipython3",
   "version": "3.12.4"
  }
 },
 "nbformat": 4,
 "nbformat_minor": 0
}
