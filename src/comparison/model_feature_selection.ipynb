{
 "cells": [
  {
   "cell_type": "code",
   "execution_count": 2,
   "metadata": {},
   "outputs": [],
   "source": [
    "%load_ext autoreload\n",
    "%autoreload 2"
   ]
  },
  {
   "cell_type": "code",
   "execution_count": 3,
   "metadata": {},
   "outputs": [],
   "source": [
    "import sys\n",
    "import os\n",
    "sys.path.append(os.path.join(os.getcwd(), '../'))"
   ]
  },
  {
   "cell_type": "code",
   "execution_count": 4,
   "metadata": {
    "id": "6uHoVF74CVci"
   },
   "outputs": [
    {
     "name": "stderr",
     "output_type": "stream",
     "text": [
      "/var/folders/vp/tqkr07mj3cn274npl2jmvy5w0000gq/T/ipykernel_22745/2698693259.py:15: DeprecationWarning: This function is deprecated. Please call randint(0, 4294967295 + 1) instead\n",
      "  seed_list = random.random_integers(low=0, high=2**32 - 1, size=100)\n"
     ]
    }
   ],
   "source": [
    "import pandas as pd\n",
    "import warnings\n",
    "\n",
    "import json\n",
    "from numpy import random\n",
    "from dataclasses import dataclass\n",
    "\n",
    "from model.utils import report_results\n",
    "from model.gradient_boosting import train_gradient_boosting\n",
    "\n",
    "from sklearn.ensemble import HistGradientBoostingClassifier\n",
    "\n",
    "DEFAULT_RANDOM_SEED = 774\n",
    "random.mtrand._rand.seed(DEFAULT_RANDOM_SEED)\n",
    "seed_list = random.random_integers(low=0, high=2**32 - 1, size=100)\n",
    "warnings.filterwarnings(\"ignore\")\n",
    "\n",
    "search_params = {\"learning_rate\": (0.05, 0.1, 0.5, 1), \"max_features\": (0.1, 0.2, 0.5, \"sqrt\"), \"l2_regularization\": (0, 0.5, 1), \"max_depth\": (16, 32, 64, None), \"class_weight\": (\"balanced\",)}"
   ]
  },
  {
   "cell_type": "code",
   "execution_count": 5,
   "metadata": {},
   "outputs": [],
   "source": [
    "@dataclass\n",
    "class RunConfiguration:\n",
    "  run_grid_search: bool\n",
    "  default_parameters: dict"
   ]
  },
  {
   "cell_type": "code",
   "execution_count": 6,
   "metadata": {},
   "outputs": [],
   "source": [
    "def get_parameters(df: pd.DataFrame, run_config: RunConfiguration):\n",
    "  if not run_config.run_grid_search:\n",
    "    return run_config.default_parameters\n",
    "  \n",
    "  grid_search_response = train_gradient_boosting(target=\"subtype\", data=df, grid_search_params=search_params)\n",
    "  parameters = {k: grid_search_response.model.get_params()[k] for k in grid_search_response.model.get_params().keys() & search_params.keys() }\n",
    "  print(parameters)\n",
    "  return parameters\n",
    "\n",
    "def run_tests(category: str, method: str, metric: str, run_config: RunConfiguration):\n",
    "  data = pd.read_csv(f\"../../preprocessed/{category}/genes.csv\").drop(columns=[\"sample_id\"])\n",
    "  pvalues = json.loads(open(f\"../../preprocessed/{category}/important_genes_{method}_{metric}.json\").readline())\n",
    "\n",
    "  chosen_genes = list(set([y[\"gene\"] for x in [sex_values[:15] for subtype_items in pvalues.values() for sex_values in subtype_items.values()] for y in x]))\n",
    "  print(f\"Total chosen genes: {len(chosen_genes)}\")\n",
    "\n",
    "  df = data[[\"subtype\", \"sex\", *chosen_genes]]\n",
    "  print(report_results(df, HistGradientBoostingClassifier, get_parameters(df, run_config), seed_list).report)"
   ]
  },
  {
   "cell_type": "code",
   "execution_count": 9,
   "metadata": {},
   "outputs": [
    {
     "name": "stdout",
     "output_type": "stream",
     "text": [
      "Total chosen genes: 242\n",
      "{'class_weight': 'balanced', 'l2_regularization': 1, 'max_depth': 16, 'max_features': 0.1, 'learning_rate': 0.1}\n"
     ]
    },
    {
     "name": "stderr",
     "output_type": "stream",
     "text": [
      "100%|██████████| 100/100 [01:52<00:00,  1.13s/it]"
     ]
    },
    {
     "name": "stdout",
     "output_type": "stream",
     "text": [
      "           Metric          Overall             Male           Female\n",
      "0   F1 (Weighted)  0.9059 ± 0.0228  0.9077 ± 0.0293  0.8950 ± 0.0311\n",
      "1      F1 (Macro)  0.8829 ± 0.0306  0.8806 ± 0.0418  0.8664 ± 0.0431\n",
      "2  Recall (Macro)  0.8762 ± 0.0317  0.8785 ± 0.0432  0.8583 ± 0.0427\n",
      "3         ROC AUC  0.9921 ± 0.0041  0.9931 ± 0.0050  0.9911 ± 0.0064\n",
      "4        Accuracy  0.9062 ± 0.0223  0.9091 ± 0.0279  0.8955 ± 0.0303\n",
      "5        Duration  1.0009 ± 0.0284                0                0\n"
     ]
    },
    {
     "name": "stderr",
     "output_type": "stream",
     "text": [
      "\n"
     ]
    }
   ],
   "source": [
    "run_tests(\n",
    "  category=\"min_tpm_5\",\n",
    "  method=\"random_forest\",\n",
    "  metric=\"recall\",\n",
    "  run_config=RunConfiguration(\n",
    "    run_grid_search=True,\n",
    "    default_parameters={'learning_rate': 0.1, 'max_depth': 32, 'max_features': 0.1, 'l2_regularization': 0.5}\n",
    "  )\n",
    ")"
   ]
  },
  {
   "cell_type": "code",
   "execution_count": 10,
   "metadata": {},
   "outputs": [
    {
     "name": "stdout",
     "output_type": "stream",
     "text": [
      "Total chosen genes: 242\n",
      "{'class_weight': 'balanced', 'l2_regularization': 1, 'max_depth': 64, 'max_features': 0.2, 'learning_rate': 0.05}\n"
     ]
    },
    {
     "name": "stderr",
     "output_type": "stream",
     "text": [
      "100%|██████████| 100/100 [01:50<00:00,  1.10s/it]"
     ]
    },
    {
     "name": "stdout",
     "output_type": "stream",
     "text": [
      "           Metric          Overall             Male           Female\n",
      "0   F1 (Weighted)  0.8959 ± 0.0232  0.9041 ± 0.0283  0.8850 ± 0.0357\n",
      "1      F1 (Macro)  0.8706 ± 0.0308  0.8806 ± 0.0392  0.8541 ± 0.0475\n",
      "2  Recall (Macro)  0.8660 ± 0.0313  0.8770 ± 0.0395  0.8528 ± 0.0475\n",
      "3         ROC AUC  0.9909 ± 0.0044  0.9921 ± 0.0051  0.9894 ± 0.0070\n",
      "4        Accuracy  0.8958 ± 0.0228  0.9091 ± 0.0266  0.8955 ± 0.0355\n",
      "5        Duration  0.9670 ± 0.0673                0                0\n"
     ]
    },
    {
     "name": "stderr",
     "output_type": "stream",
     "text": [
      "\n"
     ]
    }
   ],
   "source": [
    "run_tests(\n",
    "  category=\"min_tpm_5\",\n",
    "  method=\"random_forest\",\n",
    "  metric=\"f1\",\n",
    "  run_config=RunConfiguration(\n",
    "    run_grid_search=True,\n",
    "    default_parameters={'learning_rate': 0.1, 'max_depth': 32, 'max_features': 0.1, 'l2_regularization': 0.5}\n",
    "  )\n",
    ")"
   ]
  },
  {
   "cell_type": "code",
   "execution_count": 8,
   "metadata": {},
   "outputs": [
    {
     "name": "stdout",
     "output_type": "stream",
     "text": [
      "Total chosen genes: 252\n",
      "{'class_weight': 'balanced', 'l2_regularization': 0.5, 'max_depth': 32, 'max_features': 0.2, 'learning_rate': 0.1}\n"
     ]
    },
    {
     "name": "stderr",
     "output_type": "stream",
     "text": [
      "100%|██████████| 100/100 [01:54<00:00,  1.15s/it]"
     ]
    },
    {
     "name": "stdout",
     "output_type": "stream",
     "text": [
      "           Metric          Overall             Male           Female\n",
      "0   F1 (Weighted)  0.8989 ± 0.0210  0.8960 ± 0.0311  0.9049 ± 0.0302\n",
      "1      F1 (Macro)  0.8718 ± 0.0301  0.8731 ± 0.0425  0.8697 ± 0.0430\n",
      "2  Recall (Macro)  0.8624 ± 0.0312  0.8618 ± 0.0428  0.8643 ± 0.0420\n",
      "3         ROC AUC  0.9916 ± 0.0047  0.9921 ± 0.0043  0.9927 ± 0.0076\n",
      "4        Accuracy  0.9028 ± 0.0200  0.8961 ± 0.0294  0.9104 ± 0.0287\n",
      "5        Duration  0.9898 ± 0.1093                0                0\n"
     ]
    },
    {
     "name": "stderr",
     "output_type": "stream",
     "text": [
      "\n"
     ]
    }
   ],
   "source": [
    "run_tests(\n",
    "  category=\"min_tpm_5\",\n",
    "  method=\"logistic\",\n",
    "  metric=\"recall\",\n",
    "  run_config=RunConfiguration(\n",
    "    run_grid_search=True,\n",
    "    default_parameters={'l2_regularization': 0, 'max_depth': 64, 'max_features': 0.1, 'learning_rate': 0.1}\n",
    "  )\n",
    ")"
   ]
  },
  {
   "cell_type": "code",
   "execution_count": null,
   "metadata": {},
   "outputs": [
    {
     "name": "stdout",
     "output_type": "stream",
     "text": [
      "Total chosen genes: 252\n",
      "{'class_weight': 'balanced', 'l2_regularization': 0.5, 'max_depth': 16, 'max_features': 0.1, 'learning_rate': 0.05}\n"
     ]
    },
    {
     "name": "stderr",
     "output_type": "stream",
     "text": [
      "100%|██████████| 100/100 [02:12<00:00,  1.33s/it]"
     ]
    },
    {
     "name": "stdout",
     "output_type": "stream",
     "text": [
      "           Metric          Overall             Male           Female\n",
      "0   F1 (Weighted)  0.9056 ± 0.0206  0.9050 ± 0.0303  0.9077 ± 0.0282\n",
      "1      F1 (Macro)  0.8806 ± 0.0298  0.8814 ± 0.0426  0.8771 ± 0.0411\n",
      "2  Recall (Macro)  0.8727 ± 0.0310  0.8729 ± 0.0433  0.8785 ± 0.0407\n",
      "3         ROC AUC  0.9930 ± 0.0047  0.9933 ± 0.0038  0.9932 ± 0.0074\n",
      "4        Accuracy  0.9097 ± 0.0197  0.9091 ± 0.0286  0.9104 ± 0.0267\n",
      "5        Duration  1.1511 ± 0.1265                0                0\n"
     ]
    },
    {
     "name": "stderr",
     "output_type": "stream",
     "text": [
      "\n"
     ]
    }
   ],
   "source": [
    "run_tests(\n",
    "  category=\"min_tpm_5\",\n",
    "  method=\"logistic\",\n",
    "  metric=\"f1\",\n",
    "  run_config=RunConfiguration(\n",
    "    run_grid_search=False,\n",
    "    default_parameters={'class_weight': 'balanced', 'l2_regularization': 0.5, 'max_depth': 16, 'max_features': 0.1, 'learning_rate': 0.05}\n",
    "  )\n",
    ")"
   ]
  }
 ],
 "metadata": {
  "colab": {
   "provenance": []
  },
  "kernelspec": {
   "display_name": ".venv",
   "language": "python",
   "name": "python3"
  },
  "language_info": {
   "codemirror_mode": {
    "name": "ipython",
    "version": 3
   },
   "file_extension": ".py",
   "mimetype": "text/x-python",
   "name": "python",
   "nbconvert_exporter": "python",
   "pygments_lexer": "ipython3",
   "version": "3.12.9"
  }
 },
 "nbformat": 4,
 "nbformat_minor": 0
}
