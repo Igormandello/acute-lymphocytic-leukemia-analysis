{
 "cells": [
  {
   "cell_type": "code",
   "execution_count": 2,
   "metadata": {},
   "outputs": [],
   "source": [
    "%load_ext autoreload\n",
    "%autoreload 2"
   ]
  },
  {
   "cell_type": "code",
   "execution_count": null,
   "metadata": {
    "id": "6uHoVF74CVci"
   },
   "outputs": [],
   "source": [
    "from collections import defaultdict\n",
    "\n",
    "import json\n",
    "import pandas as pd\n",
    "\n",
    "from scipy.stats import ttest_ind, wilcoxon, cramervonmises_2samp, brunnermunzel, epps_singleton_2samp, anderson_ksamp\n",
    "from numpy import random\n",
    "\n",
    "DEFAULT_RANDOM_SEED = 774\n",
    "random.mtrand._rand.seed(DEFAULT_RANDOM_SEED)"
   ]
  },
  {
   "cell_type": "code",
   "execution_count": 4,
   "metadata": {},
   "outputs": [],
   "source": [
    "category = \"min_tpm_5\""
   ]
  },
  {
   "cell_type": "code",
   "execution_count": 6,
   "metadata": {
    "id": "3cazoi3DFDzN"
   },
   "outputs": [],
   "source": [
    "extra_data_headers = pd.read_csv('../../data/extra_data.tsv', delimiter=\"\\t\", nrows=0).columns\n",
    "data = pd.read_csv(f\"../../preprocessed/{category}/genes.csv\", delimiter=\",\", decimal='.')\n",
    "\n",
    "subtypes = set(data[\"subtype\"])\n",
    "genes = set(data.columns) - set(extra_data_headers) - set([\"prognostic\"])"
   ]
  },
  {
   "cell_type": "code",
   "execution_count": 28,
   "metadata": {},
   "outputs": [],
   "source": [
    "def select_important_genes_by_sex(metric, verify_zeros: bool = False):\n",
    "  important_genes_by_sex_subtype = defaultdict(list)\n",
    "\n",
    "  for sex in [\"Male\", \"Female\"]:\n",
    "    filtered_sex_dataset = data[data[\"sex\"] == sex]\n",
    "    for subtype in subtypes:\n",
    "      subtype_dataset = filtered_sex_dataset[filtered_sex_dataset[\"subtype\"] == subtype]\n",
    "      not_subtype_dataset = filtered_sex_dataset[filtered_sex_dataset[\"subtype\"] != subtype]\n",
    "\n",
    "      for gene in genes:\n",
    "        sample_X = subtype_dataset[gene]\n",
    "        sample_Y = not_subtype_dataset[gene]\n",
    "\n",
    "        if verify_zeros:\n",
    "          if len(sample_Y[sample_Y != 0]) == 0:\n",
    "            if len(sample_X[sample_X != 0]) != 0:\n",
    "              important_genes_by_sex_subtype[(sex, subtype)].append({ \"gene\": gene, \"pvalue\": 0 })  \n",
    "\n",
    "            continue\n",
    "\n",
    "        try:\n",
    "          result = metric(sample_X, sample_Y)\n",
    "          if (result.pvalue <= 0.001):\n",
    "            important_genes_by_sex_subtype[(sex, subtype)].append({ \"gene\": gene, \"pvalue\": result.pvalue })\n",
    "        except:\n",
    "          continue\n",
    "\n",
    "  result = defaultdict(dict)\n",
    "  for key in important_genes_by_sex_subtype.keys():\n",
    "    result[key[1]] |= { key[0]: sorted(important_genes_by_sex_subtype[key], key=lambda x: x[\"pvalue\"]) }\n",
    "\n",
    "  return result\n"
   ]
  },
  {
   "cell_type": "code",
   "execution_count": 24,
   "metadata": {},
   "outputs": [],
   "source": [
    "def select_and_save(metric_name: str, metric, verify_zeros: bool = False):\n",
    "  result = select_important_genes_by_sex(metric, verify_zeros)\n",
    "  open(f\"../../preprocessed/{category}/important_genes_{metric_name}_pvalue.json\", \"w\").write(json.dumps(result))"
   ]
  },
  {
   "cell_type": "code",
   "execution_count": null,
   "metadata": {},
   "outputs": [
    {
     "name": "stdout",
     "output_type": "stream",
     "text": [
      "Total selected genes: 13120\n"
     ]
    }
   ],
   "source": [
    "select_and_save(\"ttest\", lambda x, y: ttest_ind(x, y, equal_var=False))"
   ]
  },
  {
   "cell_type": "code",
   "execution_count": null,
   "metadata": {},
   "outputs": [
    {
     "name": "stderr",
     "output_type": "stream",
     "text": [
      "/Users/igor.mandello/unicamp/acute-lymphocytic-leukemia-analysis/.venv/lib/python3.12/site-packages/scipy/stats/_wilcoxon.py:199: UserWarning: Sample size too small for normal approximation.\n",
      "  temp = _wilcoxon_iv(x, y, zero_method, correction, alternative, method, axis)\n"
     ]
    },
    {
     "name": "stdout",
     "output_type": "stream",
     "text": [
      "Total selected genes: 9912\n"
     ]
    }
   ],
   "source": [
    "select_and_save(\"wilcoxon\", lambda x, y: wilcoxon(x, y.sample(len(x)), zero_method=\"zsplit\"))"
   ]
  },
  {
   "cell_type": "code",
   "execution_count": null,
   "metadata": {},
   "outputs": [
    {
     "name": "stdout",
     "output_type": "stream",
     "text": [
      "Total selected genes: 13171\n"
     ]
    }
   ],
   "source": [
    "select_and_save(\"cramervonmises\", cramervonmises_2samp)"
   ]
  },
  {
   "cell_type": "code",
   "execution_count": 9,
   "metadata": {},
   "outputs": [
    {
     "name": "stderr",
     "output_type": "stream",
     "text": [
      "/Users/igor.mandello/unicamp/acute-lymphocytic-leukemia-analysis/.venv/lib/python3.12/site-packages/scipy/stats/_stats_py.py:9171: RuntimeWarning: invalid value encountered in scalar divide\n",
      "  wbfn /= (nx + ny) * np.sqrt(nx * Sx + ny * Sy)\n",
      "/Users/igor.mandello/unicamp/acute-lymphocytic-leukemia-analysis/.venv/lib/python3.12/site-packages/scipy/stats/_stats_py.py:9177: RuntimeWarning: invalid value encountered in scalar divide\n",
      "  df = df_numer / df_denom\n",
      "/Users/igor.mandello/unicamp/acute-lymphocytic-leukemia-analysis/.venv/lib/python3.12/site-packages/scipy/stats/_axis_nan_policy.py:573: RuntimeWarning: p-value cannot be estimated with `distribution='t' because degrees of freedom parameter is undefined (0/0). Try using `distribution='normal'\n",
      "  res = hypotest_fun_out(*samples, **kwds)\n",
      "/Users/igor.mandello/unicamp/acute-lymphocytic-leukemia-analysis/.venv/lib/python3.12/site-packages/scipy/stats/_stats_py.py:9171: RuntimeWarning: divide by zero encountered in scalar divide\n",
      "  wbfn /= (nx + ny) * np.sqrt(nx * Sx + ny * Sy)\n"
     ]
    }
   ],
   "source": [
    "select_and_save(\"brunnermunzel\", brunnermunzel)"
   ]
  },
  {
   "cell_type": "code",
   "execution_count": 29,
   "metadata": {},
   "outputs": [
    {
     "name": "stderr",
     "output_type": "stream",
     "text": [
      "/Users/igor.mandello/unicamp/acute-lymphocytic-leukemia-analysis/.venv/lib/python3.12/site-packages/scipy/stats/_hypotests.py:120: RuntimeWarning: divide by zero encountered in divide\n",
      "  ts = np.reshape(t, (-1, 1)) / sigma\n",
      "/Users/igor.mandello/unicamp/acute-lymphocytic-leukemia-analysis/.venv/lib/python3.12/site-packages/scipy/stats/_hypotests.py:123: RuntimeWarning: invalid value encountered in multiply\n",
      "  gx = np.vstack((np.cos(ts*x), np.sin(ts*x))).T  # shape = (nx, 2*len(t))\n",
      "/Users/igor.mandello/unicamp/acute-lymphocytic-leukemia-analysis/.venv/lib/python3.12/site-packages/scipy/stats/_hypotests.py:123: RuntimeWarning: invalid value encountered in cos\n",
      "  gx = np.vstack((np.cos(ts*x), np.sin(ts*x))).T  # shape = (nx, 2*len(t))\n",
      "/Users/igor.mandello/unicamp/acute-lymphocytic-leukemia-analysis/.venv/lib/python3.12/site-packages/scipy/stats/_hypotests.py:123: RuntimeWarning: invalid value encountered in sin\n",
      "  gx = np.vstack((np.cos(ts*x), np.sin(ts*x))).T  # shape = (nx, 2*len(t))\n",
      "/Users/igor.mandello/unicamp/acute-lymphocytic-leukemia-analysis/.venv/lib/python3.12/site-packages/scipy/stats/_hypotests.py:124: RuntimeWarning: invalid value encountered in multiply\n",
      "  gy = np.vstack((np.cos(ts*y), np.sin(ts*y))).T\n",
      "/Users/igor.mandello/unicamp/acute-lymphocytic-leukemia-analysis/.venv/lib/python3.12/site-packages/scipy/stats/_hypotests.py:124: RuntimeWarning: invalid value encountered in cos\n",
      "  gy = np.vstack((np.cos(ts*y), np.sin(ts*y))).T\n",
      "/Users/igor.mandello/unicamp/acute-lymphocytic-leukemia-analysis/.venv/lib/python3.12/site-packages/scipy/stats/_hypotests.py:124: RuntimeWarning: invalid value encountered in sin\n",
      "  gy = np.vstack((np.cos(ts*y), np.sin(ts*y))).T\n"
     ]
    }
   ],
   "source": [
    "select_and_save(\"epps_singleton\", epps_singleton_2samp, verify_zeros=True)"
   ]
  },
  {
   "cell_type": "code",
   "execution_count": 26,
   "metadata": {},
   "outputs": [
    {
     "name": "stderr",
     "output_type": "stream",
     "text": [
      "/var/folders/vp/tqkr07mj3cn274npl2jmvy5w0000gq/T/ipykernel_26096/678088710.py:1: UserWarning: p-value capped: true value larger than 0.25. Consider specifying `method` (e.g. `method=stats.PermutationMethod()`.)\n",
      "  select_and_save(\"anderson_ksamp\", lambda x, y: anderson_ksamp([x, y]), verify_zeros=True)\n",
      "/var/folders/vp/tqkr07mj3cn274npl2jmvy5w0000gq/T/ipykernel_26096/678088710.py:1: UserWarning: p-value floored: true value smaller than 0.001. Consider specifying `method` (e.g. `method=stats.PermutationMethod()`.)\n",
      "  select_and_save(\"anderson_ksamp\", lambda x, y: anderson_ksamp([x, y]), verify_zeros=True)\n"
     ]
    }
   ],
   "source": [
    "select_and_save(\"anderson_ksamp\", lambda x, y: anderson_ksamp([x, y]), verify_zeros=True)"
   ]
  },
  {
   "cell_type": "code",
   "execution_count": 24,
   "metadata": {},
   "outputs": [],
   "source": [
    "def select_important_genes_overall(metric):\n",
    "  important_genes_by_subtype = defaultdict(list)\n",
    "\n",
    "  for subtype in subtypes:\n",
    "    subtype_dataset = data[data[\"subtype\"] == subtype]\n",
    "    not_subtype_dataset = data[data[\"subtype\"] != subtype]\n",
    "\n",
    "    for gene in genes:\n",
    "      result = metric(subtype_dataset[gene], not_subtype_dataset[gene])\n",
    "      if (result.pvalue <= 0.001):\n",
    "        important_genes_by_subtype[subtype].append({ \"gene\": gene, \"pvalue\": result.pvalue })\n",
    "\n",
    "  result = {}\n",
    "  for key in important_genes_by_subtype.keys():\n",
    "    result[key] = sorted(important_genes_by_subtype[key], key=lambda x: x[\"pvalue\"])\n",
    "\n",
    "  return result\n"
   ]
  },
  {
   "cell_type": "code",
   "execution_count": 25,
   "metadata": {},
   "outputs": [],
   "source": [
    "ttest_result = select_important_genes_overall(lambda x, y: ttest_ind(x, y, equal_var=False))"
   ]
  },
  {
   "cell_type": "code",
   "execution_count": 26,
   "metadata": {},
   "outputs": [
    {
     "data": {
      "text/plain": [
       "2467220"
      ]
     },
     "execution_count": 26,
     "metadata": {},
     "output_type": "execute_result"
    }
   ],
   "source": [
    "open(f\"../preprocessed/{category}/important_genes_ttest_overall_pvalue.json\", \"w\").write(json.dumps(ttest_result))"
   ]
  }
 ],
 "metadata": {
  "colab": {
   "provenance": []
  },
  "kernelspec": {
   "display_name": ".venv",
   "language": "python",
   "name": "python3"
  },
  "language_info": {
   "codemirror_mode": {
    "name": "ipython",
    "version": 3
   },
   "file_extension": ".py",
   "mimetype": "text/x-python",
   "name": "python",
   "nbconvert_exporter": "python",
   "pygments_lexer": "ipython3",
   "version": "3.12.9"
  }
 },
 "nbformat": 4,
 "nbformat_minor": 0
}
