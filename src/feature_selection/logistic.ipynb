{
 "cells": [
  {
   "cell_type": "code",
   "execution_count": 43,
   "metadata": {},
   "outputs": [
    {
     "name": "stdout",
     "output_type": "stream",
     "text": [
      "The autoreload extension is already loaded. To reload it, use:\n",
      "  %reload_ext autoreload\n"
     ]
    }
   ],
   "source": [
    "%load_ext autoreload\n",
    "%autoreload 2"
   ]
  },
  {
   "cell_type": "code",
   "execution_count": 44,
   "metadata": {},
   "outputs": [],
   "source": [
    "import sys\n",
    "import os\n",
    "sys.path.append(os.path.join(os.getcwd(), '../'))"
   ]
  },
  {
   "cell_type": "code",
   "execution_count": 45,
   "metadata": {
    "id": "6uHoVF74CVci"
   },
   "outputs": [],
   "source": [
    "import json\n",
    "import pandas as pd\n",
    "import warnings\n",
    "\n",
    "from numpy import random\n",
    "from collections import defaultdict\n",
    "from functools import reduce\n",
    "\n",
    "from sklearn.linear_model import LogisticRegression\n",
    "\n",
    "from model.train import train_classifier\n",
    "from utils import get_importances\n",
    "\n",
    "DEFAULT_RANDOM_SEED = 774\n",
    "random.mtrand._rand.seed(DEFAULT_RANDOM_SEED)\n",
    "seed_list = list(random.random_integers(low=0, high=2**32 - 1, size=50))\n",
    "warnings.filterwarnings(\"ignore\")"
   ]
  },
  {
   "cell_type": "code",
   "execution_count": 46,
   "metadata": {},
   "outputs": [],
   "source": [
    "category = \"min_tpm_5\"\n",
    "data = pd.read_csv(f\"../../preprocessed/{category}/genes.csv\").drop(columns=[\"sample_id\"])\n",
    "subtypes = set(data[\"subtype\"])"
   ]
  },
  {
   "cell_type": "code",
   "execution_count": 47,
   "metadata": {},
   "outputs": [],
   "source": [
    "\n",
    "\n",
    "\n",
    "def choose_important_genes(data: pd.DataFrame, scoring: str):\n",
    "  random.mtrand._rand.seed(DEFAULT_RANDOM_SEED)\n",
    "  search_params = {\"penalty\": (\"l1\", \"l2\", \"elasticnet\"), \"C\": (0, 0.5, 1, 2)}\n",
    "  importances_by_sex_subtype = defaultdict(list)\n",
    "\n",
    "  for sex in [\"Male\", \"Female\"]:\n",
    "    filtered_sex_dataset = data[data[\"sex\"] == sex]\n",
    "    for subtype in subtypes:\n",
    "      targeted_data = filtered_sex_dataset.copy()\n",
    "      targeted_data[\"subtype_target\"] = targeted_data[\"subtype\"] == subtype\n",
    "\n",
    "      for seed in seed_list:\n",
    "        random.mtrand._rand.seed(seed)\n",
    "        model = LogisticRegression(class_weight=\"balanced\", random_state=seed, solver=\"liblinear\", max_iter=100)\n",
    "        response = train_classifier(model, \"subtype_target\", data=targeted_data, grid_search_scoring=scoring, grid_search_params=search_params)\n",
    "        importances = get_importances(response.model.coef_[0], response.feature_names, top=None)\n",
    "\n",
    "        importances_by_sex_subtype[(sex, subtype)].append(importances)\n",
    "\n",
    "  result = defaultdict(dict)\n",
    "  for key, importances_list in importances_by_sex_subtype.items():\n",
    "    importances_series: pd.Series = reduce(lambda x, y: x + y, importances_list) / float(len(importances_list))\n",
    "    importances = [{ \"gene\": k, \"coef\": v * v } for k, v in importances_series.items() if v != 0]\n",
    "    result[key[1]] |= { key[0]: sorted(importances, key=lambda x: x[\"coef\"], reverse=True) }\n",
    "\n",
    "  return result"
   ]
  },
  {
   "cell_type": "code",
   "execution_count": null,
   "metadata": {},
   "outputs": [],
   "source": [
    "result = choose_important_genes(data, scoring=\"recall_micro\")\n",
    "open(f\"../../preprocessed/{category}/important_genes_logistic_recall.json\", \"w\").write(json.dumps(result))"
   ]
  },
  {
   "cell_type": "code",
   "execution_count": 49,
   "metadata": {},
   "outputs": [
    {
     "data": {
      "text/plain": [
       "323770"
      ]
     },
     "execution_count": 49,
     "metadata": {},
     "output_type": "execute_result"
    }
   ],
   "source": [
    "result = choose_important_genes(data, scoring=\"f1_weighted\")\n",
    "open(f\"../../preprocessed/{category}/important_genes_logistic_f1.json\", \"w\").write(json.dumps(result))"
   ]
  }
 ],
 "metadata": {
  "colab": {
   "provenance": []
  },
  "kernelspec": {
   "display_name": ".venv",
   "language": "python",
   "name": "python3"
  },
  "language_info": {
   "codemirror_mode": {
    "name": "ipython",
    "version": 3
   },
   "file_extension": ".py",
   "mimetype": "text/x-python",
   "name": "python",
   "nbconvert_exporter": "python",
   "pygments_lexer": "ipython3",
   "version": "3.12.9"
  }
 },
 "nbformat": 4,
 "nbformat_minor": 0
}
