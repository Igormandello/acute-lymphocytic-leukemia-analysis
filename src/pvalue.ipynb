{
 "cells": [
  {
   "cell_type": "code",
   "execution_count": 1,
   "metadata": {},
   "outputs": [],
   "source": [
    "%load_ext autoreload\n",
    "%autoreload 2"
   ]
  },
  {
   "cell_type": "code",
   "execution_count": null,
   "metadata": {
    "id": "6uHoVF74CVci"
   },
   "outputs": [],
   "source": [
    "from collections import defaultdict\n",
    "\n",
    "import json\n",
    "import pandas as pd\n",
    "\n",
    "from scipy.stats import ttest_ind\n",
    "from numpy import random\n",
    "\n",
    "DEFAULT_RANDOM_SEED = 774\n",
    "random.mtrand._rand.seed(DEFAULT_RANDOM_SEED)"
   ]
  },
  {
   "cell_type": "code",
   "execution_count": null,
   "metadata": {},
   "outputs": [],
   "source": [
    "category = \"min_tpm_5\""
   ]
  },
  {
   "cell_type": "code",
   "execution_count": null,
   "metadata": {
    "id": "3cazoi3DFDzN"
   },
   "outputs": [],
   "source": [
    "extra_data_headers = pd.read_csv('../data/extra_data.tsv', delimiter=\"\\t\", nrows=0).columns\n",
    "data = pd.read_csv(f\"../preprocessed/{category}/genes.csv\", delimiter=\",\", decimal='.')\n",
    "\n",
    "subtypes = set(data[\"subtype\"])\n",
    "genes = set(data.columns) - set(extra_data_headers) - set([\"prognostic\"])"
   ]
  },
  {
   "cell_type": "code",
   "execution_count": null,
   "metadata": {},
   "outputs": [],
   "source": [
    "important_genes_by_sex_subtype = defaultdict(list)\n",
    "\n",
    "for sex in [\"Male\", \"Female\"]:\n",
    "  filtered_sex_dataset = data[data[\"sex\"] == sex]\n",
    "  for subtype in subtypes:\n",
    "    subtype_dataset = filtered_sex_dataset[filtered_sex_dataset[\"subtype\"] == subtype]\n",
    "    not_subtype_dataset = filtered_sex_dataset[filtered_sex_dataset[\"subtype\"] != subtype]\n",
    "\n",
    "    for gene in genes:\n",
    "      # Do populations have identical variances?\n",
    "      result = ttest_ind(subtype_dataset[gene], not_subtype_dataset[gene], equal_var=False)\n",
    "      if (result.pvalue <= 0.001):\n",
    "        important_genes_by_sex_subtype[(sex, subtype)].append({ \"gene\": gene, \"pvalue\": result.pvalue })\n"
   ]
  },
  {
   "cell_type": "code",
   "execution_count": 68,
   "metadata": {},
   "outputs": [],
   "source": [
    "result = defaultdict(dict)\n",
    "for key in important_genes_by_sex_subtype.keys():\n",
    "  result[key[1]] |= { key[0]: sorted(important_genes_by_sex_subtype[key], key=lambda x: x[\"pvalue\"]) }"
   ]
  },
  {
   "cell_type": "code",
   "execution_count": null,
   "metadata": {},
   "outputs": [
    {
     "data": {
      "text/plain": [
       "1923488"
      ]
     },
     "execution_count": 70,
     "metadata": {},
     "output_type": "execute_result"
    }
   ],
   "source": [
    "open(f\"../preprocessed/{category}/important_genes_pvalue.json\", \"w\").write(json.dumps(result))"
   ]
  }
 ],
 "metadata": {
  "colab": {
   "provenance": []
  },
  "kernelspec": {
   "display_name": ".venv",
   "language": "python",
   "name": "python3"
  },
  "language_info": {
   "codemirror_mode": {
    "name": "ipython",
    "version": 3
   },
   "file_extension": ".py",
   "mimetype": "text/x-python",
   "name": "python",
   "nbconvert_exporter": "python",
   "pygments_lexer": "ipython3",
   "version": "3.12.4"
  }
 },
 "nbformat": 4,
 "nbformat_minor": 0
}
