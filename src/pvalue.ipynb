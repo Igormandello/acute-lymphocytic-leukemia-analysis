{
 "cells": [
  {
   "cell_type": "code",
   "execution_count": 19,
   "metadata": {},
   "outputs": [
    {
     "name": "stdout",
     "output_type": "stream",
     "text": [
      "The autoreload extension is already loaded. To reload it, use:\n",
      "  %reload_ext autoreload\n"
     ]
    }
   ],
   "source": [
    "%load_ext autoreload\n",
    "%autoreload 2"
   ]
  },
  {
   "cell_type": "code",
   "execution_count": 20,
   "metadata": {
    "id": "6uHoVF74CVci"
   },
   "outputs": [],
   "source": [
    "from collections import defaultdict\n",
    "\n",
    "import json\n",
    "import pandas as pd\n",
    "\n",
    "from scipy.stats import ttest_ind, wilcoxon, cramervonmises_2samp\n",
    "from numpy import random\n",
    "\n",
    "DEFAULT_RANDOM_SEED = 774\n",
    "random.mtrand._rand.seed(DEFAULT_RANDOM_SEED)"
   ]
  },
  {
   "cell_type": "code",
   "execution_count": 3,
   "metadata": {},
   "outputs": [],
   "source": [
    "category = \"min_tpm_5\""
   ]
  },
  {
   "cell_type": "code",
   "execution_count": 4,
   "metadata": {
    "id": "3cazoi3DFDzN"
   },
   "outputs": [],
   "source": [
    "extra_data_headers = pd.read_csv('../data/extra_data.tsv', delimiter=\"\\t\", nrows=0).columns\n",
    "data = pd.read_csv(f\"../preprocessed/{category}/genes.csv\", delimiter=\",\", decimal='.')\n",
    "\n",
    "subtypes = set(data[\"subtype\"])\n",
    "genes = set(data.columns) - set(extra_data_headers) - set([\"prognostic\"])"
   ]
  },
  {
   "cell_type": "code",
   "execution_count": null,
   "metadata": {},
   "outputs": [],
   "source": [
    "def select_important_genes_by_sex(metric):\n",
    "  important_genes_by_sex_subtype = defaultdict(list)\n",
    "\n",
    "  for sex in [\"Male\", \"Female\"]:\n",
    "    filtered_sex_dataset = data[data[\"sex\"] == sex]\n",
    "    for subtype in subtypes:\n",
    "      subtype_dataset = filtered_sex_dataset[filtered_sex_dataset[\"subtype\"] == subtype]\n",
    "      not_subtype_dataset = filtered_sex_dataset[filtered_sex_dataset[\"subtype\"] != subtype]\n",
    "\n",
    "      for gene in genes:\n",
    "        result = metric(subtype_dataset[gene], not_subtype_dataset[gene])\n",
    "        if (result.pvalue <= 0.001):\n",
    "          important_genes_by_sex_subtype[(sex, subtype)].append({ \"gene\": gene, \"pvalue\": result.pvalue })\n",
    "\n",
    "  result = defaultdict(dict)\n",
    "  for key in important_genes_by_sex_subtype.keys():\n",
    "    result[key[1]] |= { key[0]: sorted(important_genes_by_sex_subtype[key], key=lambda x: x[\"pvalue\"]) }\n",
    "\n",
    "  return result\n"
   ]
  },
  {
   "cell_type": "code",
   "execution_count": null,
   "metadata": {},
   "outputs": [
    {
     "name": "stdout",
     "output_type": "stream",
     "text": [
      "Total selected genes: 13120\n"
     ]
    }
   ],
   "source": [
    "ttest_result = select_important_genes_by_sex(lambda x, y: ttest_ind(x, y, equal_var=False))"
   ]
  },
  {
   "cell_type": "code",
   "execution_count": null,
   "metadata": {},
   "outputs": [
    {
     "name": "stderr",
     "output_type": "stream",
     "text": [
      "/Users/igor.mandello/unicamp/acute-lymphocytic-leukemia-analysis/.venv/lib/python3.12/site-packages/scipy/stats/_wilcoxon.py:199: UserWarning: Sample size too small for normal approximation.\n",
      "  temp = _wilcoxon_iv(x, y, zero_method, correction, alternative, method, axis)\n"
     ]
    },
    {
     "name": "stdout",
     "output_type": "stream",
     "text": [
      "Total selected genes: 9912\n"
     ]
    }
   ],
   "source": [
    "wilcoxon_result = select_important_genes_by_sex(lambda x, y: wilcoxon(x, y.sample(len(x)), zero_method=\"zsplit\"))"
   ]
  },
  {
   "cell_type": "code",
   "execution_count": null,
   "metadata": {},
   "outputs": [
    {
     "name": "stdout",
     "output_type": "stream",
     "text": [
      "Total selected genes: 13171\n"
     ]
    }
   ],
   "source": [
    "cramervonmises_result = select_important_genes_by_sex(cramervonmises_2samp)"
   ]
  },
  {
   "cell_type": "code",
   "execution_count": 14,
   "metadata": {},
   "outputs": [
    {
     "data": {
      "text/plain": [
       "3343377"
      ]
     },
     "execution_count": 14,
     "metadata": {},
     "output_type": "execute_result"
    }
   ],
   "source": [
    "open(f\"../preprocessed/{category}/important_genes_ttest_pvalue.json\", \"w\").write(json.dumps(ttest_result))\n",
    "open(f\"../preprocessed/{category}/important_genes_wilcoxon_pvalue.json\", \"w\").write(json.dumps(wilcoxon_result))\n",
    "open(f\"../preprocessed/{category}/important_genes_cramervonmises_pvalue.json\", \"w\").write(json.dumps(cramervonmises_result))"
   ]
  },
  {
   "cell_type": "code",
   "execution_count": 24,
   "metadata": {},
   "outputs": [],
   "source": [
    "def select_important_genes_overall(metric):\n",
    "  important_genes_by_subtype = defaultdict(list)\n",
    "\n",
    "  for subtype in subtypes:\n",
    "    subtype_dataset = data[data[\"subtype\"] == subtype]\n",
    "    not_subtype_dataset = data[data[\"subtype\"] != subtype]\n",
    "\n",
    "    for gene in genes:\n",
    "      result = metric(subtype_dataset[gene], not_subtype_dataset[gene])\n",
    "      if (result.pvalue <= 0.001):\n",
    "        important_genes_by_subtype[subtype].append({ \"gene\": gene, \"pvalue\": result.pvalue })\n",
    "\n",
    "  result = {}\n",
    "  for key in important_genes_by_subtype.keys():\n",
    "    result[key] = sorted(important_genes_by_subtype[key], key=lambda x: x[\"pvalue\"])\n",
    "\n",
    "  return result\n"
   ]
  },
  {
   "cell_type": "code",
   "execution_count": 25,
   "metadata": {},
   "outputs": [],
   "source": [
    "ttest_result = select_important_genes_overall(lambda x, y: ttest_ind(x, y, equal_var=False))"
   ]
  },
  {
   "cell_type": "code",
   "execution_count": 26,
   "metadata": {},
   "outputs": [
    {
     "data": {
      "text/plain": [
       "2467220"
      ]
     },
     "execution_count": 26,
     "metadata": {},
     "output_type": "execute_result"
    }
   ],
   "source": [
    "open(f\"../preprocessed/{category}/important_genes_ttest_overall_pvalue.json\", \"w\").write(json.dumps(ttest_result))"
   ]
  }
 ],
 "metadata": {
  "colab": {
   "provenance": []
  },
  "kernelspec": {
   "display_name": ".venv",
   "language": "python",
   "name": "python3"
  },
  "language_info": {
   "codemirror_mode": {
    "name": "ipython",
    "version": 3
   },
   "file_extension": ".py",
   "mimetype": "text/x-python",
   "name": "python",
   "nbconvert_exporter": "python",
   "pygments_lexer": "ipython3",
   "version": "3.12.9"
  }
 },
 "nbformat": 4,
 "nbformat_minor": 0
}
